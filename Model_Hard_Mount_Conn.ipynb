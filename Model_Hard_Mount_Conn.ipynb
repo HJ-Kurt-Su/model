{
  "nbformat": 4,
  "nbformat_minor": 0,
  "metadata": {
    "colab": {
      "provenance": [],
      "authorship_tag": "ABX9TyNU+wqxV6Ur6920vuj0ewD/",
      "include_colab_link": true
    },
    "kernelspec": {
      "name": "python3",
      "display_name": "Python 3"
    },
    "language_info": {
      "name": "python"
    }
  },
  "cells": [
    {
      "cell_type": "markdown",
      "metadata": {
        "id": "view-in-github",
        "colab_type": "text"
      },
      "source": [
        "<a href=\"https://colab.research.google.com/github/HJ-Kurt-Su/model/blob/main/Model_Hard_Mount_Conn.ipynb\" target=\"_parent\"><img src=\"https://colab.research.google.com/assets/colab-badge.svg\" alt=\"Open In Colab\"/></a>"
      ]
    },
    {
      "cell_type": "markdown",
      "source": [
        "## Model Selection & Upload File"
      ],
      "metadata": {
        "id": "kGEAK7pigwZK"
      }
    },
    {
      "cell_type": "code",
      "source": [
        "#@markdown **Import Package**\n",
        "from urllib.request import urlretrieve\n",
        "from google.colab import files\n",
        "# from prompt_toolkit.key_binding.bindings.open_in_editor import load_open_in_editor_bindings\n",
        "import joblib\n",
        "\n",
        "from sklearn.preprocessing import StandardScaler\n",
        "\n",
        "import datetime\n",
        "import pandas as pd\n",
        "\n",
        "print(\"Import Module Done\")\n",
        "print(datetime.datetime.now())\n"
      ],
      "metadata": {
        "colab": {
          "base_uri": "https://localhost:8080/"
        },
        "cellView": "form",
        "id": "Vq_znd0NhF3Q",
        "outputId": "35c2e845-ae86-451f-dfc3-647b6343abe4"
      },
      "execution_count": 1,
      "outputs": [
        {
          "output_type": "stream",
          "name": "stdout",
          "text": [
            "Import Module Done\n",
            "2022-11-12 02:02:07.931942\n"
          ]
        }
      ]
    },
    {
      "cell_type": "code",
      "source": [
        "#@markdown **Select & Upload File**\n",
        "uploaded = files.upload()\n",
        "\n",
        "print(\"File Upload Done\")\n",
        "print(datetime.datetime.now())\n",
        "# # files.download(\"finalized_model_knn.sav\")"
      ],
      "metadata": {
        "colab": {
          "base_uri": "https://localhost:8080/",
          "height": 110
        },
        "cellView": "form",
        "id": "LsqLPFjWlBJi",
        "outputId": "01122e76-e885-439f-b3e8-d38cdbcb7a32"
      },
      "execution_count": 2,
      "outputs": [
        {
          "output_type": "display_data",
          "data": {
            "text/plain": [
              "<IPython.core.display.HTML object>"
            ],
            "text/html": [
              "\n",
              "     <input type=\"file\" id=\"files-94facf49-c64d-4ce0-ad21-c131f5f012c4\" name=\"files[]\" multiple disabled\n",
              "        style=\"border:none\" />\n",
              "     <output id=\"result-94facf49-c64d-4ce0-ad21-c131f5f012c4\">\n",
              "      Upload widget is only available when the cell has been executed in the\n",
              "      current browser session. Please rerun this cell to enable.\n",
              "      </output>\n",
              "      <script>// Copyright 2017 Google LLC\n",
              "//\n",
              "// Licensed under the Apache License, Version 2.0 (the \"License\");\n",
              "// you may not use this file except in compliance with the License.\n",
              "// You may obtain a copy of the License at\n",
              "//\n",
              "//      http://www.apache.org/licenses/LICENSE-2.0\n",
              "//\n",
              "// Unless required by applicable law or agreed to in writing, software\n",
              "// distributed under the License is distributed on an \"AS IS\" BASIS,\n",
              "// WITHOUT WARRANTIES OR CONDITIONS OF ANY KIND, either express or implied.\n",
              "// See the License for the specific language governing permissions and\n",
              "// limitations under the License.\n",
              "\n",
              "/**\n",
              " * @fileoverview Helpers for google.colab Python module.\n",
              " */\n",
              "(function(scope) {\n",
              "function span(text, styleAttributes = {}) {\n",
              "  const element = document.createElement('span');\n",
              "  element.textContent = text;\n",
              "  for (const key of Object.keys(styleAttributes)) {\n",
              "    element.style[key] = styleAttributes[key];\n",
              "  }\n",
              "  return element;\n",
              "}\n",
              "\n",
              "// Max number of bytes which will be uploaded at a time.\n",
              "const MAX_PAYLOAD_SIZE = 100 * 1024;\n",
              "\n",
              "function _uploadFiles(inputId, outputId) {\n",
              "  const steps = uploadFilesStep(inputId, outputId);\n",
              "  const outputElement = document.getElementById(outputId);\n",
              "  // Cache steps on the outputElement to make it available for the next call\n",
              "  // to uploadFilesContinue from Python.\n",
              "  outputElement.steps = steps;\n",
              "\n",
              "  return _uploadFilesContinue(outputId);\n",
              "}\n",
              "\n",
              "// This is roughly an async generator (not supported in the browser yet),\n",
              "// where there are multiple asynchronous steps and the Python side is going\n",
              "// to poll for completion of each step.\n",
              "// This uses a Promise to block the python side on completion of each step,\n",
              "// then passes the result of the previous step as the input to the next step.\n",
              "function _uploadFilesContinue(outputId) {\n",
              "  const outputElement = document.getElementById(outputId);\n",
              "  const steps = outputElement.steps;\n",
              "\n",
              "  const next = steps.next(outputElement.lastPromiseValue);\n",
              "  return Promise.resolve(next.value.promise).then((value) => {\n",
              "    // Cache the last promise value to make it available to the next\n",
              "    // step of the generator.\n",
              "    outputElement.lastPromiseValue = value;\n",
              "    return next.value.response;\n",
              "  });\n",
              "}\n",
              "\n",
              "/**\n",
              " * Generator function which is called between each async step of the upload\n",
              " * process.\n",
              " * @param {string} inputId Element ID of the input file picker element.\n",
              " * @param {string} outputId Element ID of the output display.\n",
              " * @return {!Iterable<!Object>} Iterable of next steps.\n",
              " */\n",
              "function* uploadFilesStep(inputId, outputId) {\n",
              "  const inputElement = document.getElementById(inputId);\n",
              "  inputElement.disabled = false;\n",
              "\n",
              "  const outputElement = document.getElementById(outputId);\n",
              "  outputElement.innerHTML = '';\n",
              "\n",
              "  const pickedPromise = new Promise((resolve) => {\n",
              "    inputElement.addEventListener('change', (e) => {\n",
              "      resolve(e.target.files);\n",
              "    });\n",
              "  });\n",
              "\n",
              "  const cancel = document.createElement('button');\n",
              "  inputElement.parentElement.appendChild(cancel);\n",
              "  cancel.textContent = 'Cancel upload';\n",
              "  const cancelPromise = new Promise((resolve) => {\n",
              "    cancel.onclick = () => {\n",
              "      resolve(null);\n",
              "    };\n",
              "  });\n",
              "\n",
              "  // Wait for the user to pick the files.\n",
              "  const files = yield {\n",
              "    promise: Promise.race([pickedPromise, cancelPromise]),\n",
              "    response: {\n",
              "      action: 'starting',\n",
              "    }\n",
              "  };\n",
              "\n",
              "  cancel.remove();\n",
              "\n",
              "  // Disable the input element since further picks are not allowed.\n",
              "  inputElement.disabled = true;\n",
              "\n",
              "  if (!files) {\n",
              "    return {\n",
              "      response: {\n",
              "        action: 'complete',\n",
              "      }\n",
              "    };\n",
              "  }\n",
              "\n",
              "  for (const file of files) {\n",
              "    const li = document.createElement('li');\n",
              "    li.append(span(file.name, {fontWeight: 'bold'}));\n",
              "    li.append(span(\n",
              "        `(${file.type || 'n/a'}) - ${file.size} bytes, ` +\n",
              "        `last modified: ${\n",
              "            file.lastModifiedDate ? file.lastModifiedDate.toLocaleDateString() :\n",
              "                                    'n/a'} - `));\n",
              "    const percent = span('0% done');\n",
              "    li.appendChild(percent);\n",
              "\n",
              "    outputElement.appendChild(li);\n",
              "\n",
              "    const fileDataPromise = new Promise((resolve) => {\n",
              "      const reader = new FileReader();\n",
              "      reader.onload = (e) => {\n",
              "        resolve(e.target.result);\n",
              "      };\n",
              "      reader.readAsArrayBuffer(file);\n",
              "    });\n",
              "    // Wait for the data to be ready.\n",
              "    let fileData = yield {\n",
              "      promise: fileDataPromise,\n",
              "      response: {\n",
              "        action: 'continue',\n",
              "      }\n",
              "    };\n",
              "\n",
              "    // Use a chunked sending to avoid message size limits. See b/62115660.\n",
              "    let position = 0;\n",
              "    do {\n",
              "      const length = Math.min(fileData.byteLength - position, MAX_PAYLOAD_SIZE);\n",
              "      const chunk = new Uint8Array(fileData, position, length);\n",
              "      position += length;\n",
              "\n",
              "      const base64 = btoa(String.fromCharCode.apply(null, chunk));\n",
              "      yield {\n",
              "        response: {\n",
              "          action: 'append',\n",
              "          file: file.name,\n",
              "          data: base64,\n",
              "        },\n",
              "      };\n",
              "\n",
              "      let percentDone = fileData.byteLength === 0 ?\n",
              "          100 :\n",
              "          Math.round((position / fileData.byteLength) * 100);\n",
              "      percent.textContent = `${percentDone}% done`;\n",
              "\n",
              "    } while (position < fileData.byteLength);\n",
              "  }\n",
              "\n",
              "  // All done.\n",
              "  yield {\n",
              "    response: {\n",
              "      action: 'complete',\n",
              "    }\n",
              "  };\n",
              "}\n",
              "\n",
              "scope.google = scope.google || {};\n",
              "scope.google.colab = scope.google.colab || {};\n",
              "scope.google.colab._files = {\n",
              "  _uploadFiles,\n",
              "  _uploadFilesContinue,\n",
              "};\n",
              "})(self);\n",
              "</script> "
            ]
          },
          "metadata": {}
        },
        {
          "output_type": "stream",
          "name": "stdout",
          "text": [
            "Saving hard_mount_test_set.csv to hard_mount_test_set.csv\n",
            "File Upload Done\n",
            "2022-11-12 02:03:22.280142\n"
          ]
        }
      ]
    },
    {
      "cell_type": "code",
      "execution_count": 3,
      "metadata": {
        "colab": {
          "base_uri": "https://localhost:8080/"
        },
        "cellView": "form",
        "id": "ddsFEBwMdIxh",
        "outputId": "14d338ab-6cab-4db6-a919-2e70175f4960"
      },
      "outputs": [
        {
          "output_type": "stream",
          "name": "stdout",
          "text": [
            "     \n",
            "Model Selection:  Support Vector Machine\n",
            "2022-11-12 02:03:26.063661\n"
          ]
        }
      ],
      "source": [
        "#@markdown **Model Selection**\n",
        "\n",
        "\n",
        "model_selection = 'Support Vector Machine' #@param [\"Support Vector Machine\", \"KNeighborsClassifier\", \"GaussianProcessClassifier\", \"RandomForestClassifier\"]\n",
        "model_dict = {\"Support Vector Machine\": \"finalized_model_svc.sav\", \"KNeighborsClassifier\": \"finalized_model_knn.sav\",\n",
        "          \"GaussianProcessClassifier\": \"finalized_model_rfc.sav\",  \"RandomForestClassifier\": \"finalized_model_rfc.sav\"}\n",
        "\n",
        "model_file_name = model_dict[model_selection]\n",
        "# model_file_name\n",
        "\n",
        "url = \"https://github.com/HJ-Kurt-Su/model/raw/main/\" + model_file_name\n",
        "# url\n",
        "urlretrieve(url, \"model.sav\")\n",
        "print(\"     \")\n",
        "print(\"Model Selection: \", model_selection)\n",
        "print(datetime.datetime.now())\n"
      ]
    },
    {
      "cell_type": "code",
      "source": [
        "#@markdown **Model Prediction**\n",
        "\n",
        "show_model_parameter = False #@param {type:\"boolean\"}\n",
        "\n",
        "sc = StandardScaler()\n",
        "loaded_model = joblib.load(\"model.sav\")\n",
        "df_test = pd.read_csv(\"hard_mount_test_set.csv\", encoding=\"utf-8\")\n",
        "print(df_test)\n",
        "x_test = sc.fit_transform(df_test)\n",
        "# print(x_test)\n",
        "# print(loaded_model)\n",
        "model_predict = loaded_model.predict(x_test)\n",
        "print(\"     \")\n",
        "print(\"**********\")\n",
        "print(\"Predict Model: \", model_selection)\n",
        "\n",
        "for i in model_predict:\n",
        "  print(\"     \")\n",
        "  print(\"**********\")\n",
        "  if i == 0:\n",
        "    print(\"Pass\")\n",
        "  else:\n",
        "    print(\"Fail\")\n",
        "  # print(model_predict)\n",
        "\n",
        "if show_model_parameter == True:\n",
        "  print(\"     \")\n",
        "  print(\"*\" *10)\n",
        "  print(\"Model Parameter\")\n",
        "  print(loaded_model.get_params(deep=True))"
      ],
      "metadata": {
        "colab": {
          "base_uri": "https://localhost:8080/"
        },
        "cellView": "form",
        "id": "LJLwWOxsj8LD",
        "outputId": "d18e97d3-ad75-488b-96b2-c6d416dbde45"
      },
      "execution_count": 10,
      "outputs": [
        {
          "output_type": "stream",
          "name": "stdout",
          "text": [
            "   Module_T     TpinQ  Glue  ModuleWeight   GPInQ  Screw  SideWall_T\n",
            "0       0.8  0.000000     0           3.8  0.2486      4    1.024000\n",
            "1       1.5  0.285714     0          33.6  1.7021      0    0.005974\n",
            "2       1.2  0.112061     0          15.0  0.6098      0    0.002902\n",
            "     \n",
            "**********\n",
            "Predict Model:  Support Vector Machine\n",
            "     \n",
            "**********\n",
            "Pass\n",
            "     \n",
            "**********\n",
            "Pass\n",
            "     \n",
            "**********\n",
            "Pass\n",
            "     \n",
            "**********\n",
            "Model Parameter\n",
            "{'C': 1, 'break_ties': False, 'cache_size': 200, 'class_weight': None, 'coef0': 0.0, 'decision_function_shape': 'ovr', 'degree': 3, 'gamma': 2, 'kernel': 'rbf', 'max_iter': -1, 'probability': False, 'random_state': None, 'shrinking': True, 'tol': 0.001, 'verbose': False}\n"
          ]
        }
      ]
    }
  ]
}