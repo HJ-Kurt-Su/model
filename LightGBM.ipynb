{
  "cells": [
    {
      "cell_type": "markdown",
      "metadata": {
        "id": "view-in-github",
        "colab_type": "text"
      },
      "source": [
        "<a href=\"https://colab.research.google.com/github/HJ-Kurt-Su/model/blob/main/LightGBM.ipynb\" target=\"_parent\"><img src=\"https://colab.research.google.com/assets/colab-badge.svg\" alt=\"Open In Colab\"/></a>"
      ]
    },
    {
      "cell_type": "code",
      "execution_count": null,
      "metadata": {
        "colab": {
          "base_uri": "https://localhost:8080/"
        },
        "id": "l1R8HMliPNdg",
        "outputId": "adaa2106-600c-404e-90a8-db8078f291bf",
        "cellView": "form"
      },
      "outputs": [
        {
          "output_type": "stream",
          "name": "stdout",
          "text": [
            "Ready File Operation Done\n",
            "2023-04-11 13:36:21.389090\n"
          ]
        }
      ],
      "source": [
        "#@markdown ##**Required Package & File Input Operation Tool**\n",
        "import datetime\n",
        "from google.colab import files\n",
        "import os\n",
        "from ipywidgets import widgets\n",
        "import pandas as pd\n",
        "import numpy as np\n",
        "\n",
        "\n",
        "\n",
        "## File Operateion\n",
        "def import_file():  \n",
        "  # Target: import file GUI\n",
        "  uploaded = files.upload()\n",
        "# print(uploaded)\n",
        "  print(\"File Upload Done\")\n",
        "  print(datetime.datetime.now())\n",
        "  return uploaded\n",
        "\n",
        "\n",
        "def list_file():\n",
        "  # Target: list file in current colab folder\n",
        "  # Create dropdown widgets \n",
        "  lsdi = os.listdir('/content')\n",
        "\n",
        "  lsdi.remove('.config')\n",
        "  lsdi.remove('sample_data')\n",
        "  # print(lsdi)\n",
        "  upload_files = lsdi\n",
        "  # print(upload_files)\n",
        "\n",
        "  # dropdown_x_var = widgets.Dropdown(options =dropdown_list)\n",
        "  dropdown_files = widgets.Dropdown(options =upload_files)\n",
        "\n",
        "  return dropdown_files\n",
        "\n",
        "\n",
        "def operate_file(del_file, file_operation):\n",
        "  # Target: Delete or import file.\n",
        "  # Input: list\n",
        "  # Delete file by os.remove\n",
        "  # Import file by pandas\n",
        "  if file_operation == \"Delete File\":\n",
        "    try:\n",
        "      # del_file = dropdown_files\n",
        "      os.remove(del_file)\n",
        "      print(\"Delete File Done: \", del_file)\n",
        "    except FileNotFoundError:\n",
        "      print(\"No this file in Colab, Please upload!\")\n",
        "\n",
        "  else:\n",
        "\n",
        "    try:\n",
        "      df_raw = pd.read_csv(data_name, encoding=encoding)\n",
        "\n",
        "    \n",
        "      print(\"Dataframe Size: \", df_raw.shape)\n",
        "      display(df_raw.head())\n",
        "\n",
        "    except FileNotFoundError:\n",
        "      print(\"No this file in Colab, Please upload!\")\n",
        "    return df_raw, cell_rename, exit_test_set\n",
        "\n",
        "\n",
        "def save_csv_file(df, save_file, download_filter_data=True):\n",
        "  # Target: save csv file & decide download or not\n",
        "  # Input: dataframe, file name, download or not\n",
        "  encoding = \"utf-8\"\n",
        "  df.to_csv(save_file, encoding=encoding, index=False)\n",
        "\n",
        "  if download_filter_data == True:\n",
        "    files.download(save_file)\n",
        "\n",
        "print(\"Ready File Operation Done\")\n",
        "print(datetime.datetime.now())"
      ],
      "id": "l1R8HMliPNdg"
    },
    {
      "cell_type": "code",
      "source": [
        "#@markdown ##**DataFrame Operation Tool**\n",
        "\n",
        "## DataFrame Operateion\n",
        "def revalue_data_cell_multi(df, change_col_name, change_item):\n",
        "  # Target: change dataframe cell value with multiple column\n",
        "  # Input: Dataframe, list, dict\n",
        "  # Use dict type input & by for loop.\n",
        "  location = 0\n",
        "  for i in change_col_name:\n",
        "    # print(i)\n",
        "    \n",
        "    change_dict = change_item[location]\n",
        "    # print(change_dict)\n",
        "\n",
        "    df[i] = df[i].map(change_dict)\n",
        "    print(i, \": \", df[i].unique())\n",
        "    location+=1\n",
        "  return df\n",
        "\n",
        "def revalue_data_cell_single(df, modify_col, change_item):\n",
        "  # Target: change dataframe cell value with multiple column\n",
        "  # Input: Dataframe, column name, dict\n",
        "  # Use dict type input & by for loop.\n",
        "  df[modify_col] = df[modify_col].map(change_item)\n",
        "  print(modify_col, \": \", df[modify_col].unique())\n",
        "  return df\n",
        "\n",
        "\n",
        "def revalue_binary_data_cell_multi(df, change_col_name, change_item):\n",
        "  # Target: change dataframe cell value to 0 & 1 by operator & criteria judge \n",
        "  # Input: Dataframe, list, dict\n",
        "  # Use dict type input & by for loop.\n",
        "  location = 0\n",
        "  for i in change_col_name:\n",
        "    # print(i)\n",
        "    \n",
        "    change_dict = change_item[location]\n",
        "    operator = list(change_dict.keys())[0]\n",
        "    criteria = list(change_dict.values())[0]\n",
        "    # print(change_dict)\n",
        "    if operator == \">\":\n",
        "      df[i] = (df[i] > criteria).astype(int)\n",
        "    elif operator == \"<\":\n",
        "      df[i] = (df[i] < criteria).astype(int)\n",
        "    elif operator == \"<=\":\n",
        "      df[i] = (df[i] <= criteria).astype(int)\n",
        "    elif operator == \">=\":\n",
        "      df[i] = (df[i] >= criteria).astype(int)\n",
        "    elif operator == \"==\":\n",
        "      df[i] = (df[i] == criteria).astype(int)\n",
        "    elif operator == \"!=\":\n",
        "      df[i] = (df[i] != criteria).astype(int)\n",
        "\n",
        "    location+=1\n",
        "    return df\n",
        "\n",
        "\n",
        "def revalue_binary_data_cell_single(df, modify_col, operator, criteria):\n",
        "  # Target: change dataframe cell value to 0 & 1 by operator & criteria judge \n",
        "  # Input: Dataframe, string, criteria(number)\n",
        "  # Use dict type input & by for loop.\n",
        "  if operator == \">\":\n",
        "    df[modify_col] = (df[modify_col] > criteria).astype(int)\n",
        "  elif operator == \"<\":\n",
        "    df[modify_col] = (df[modify_col] < criteria).astype(int)\n",
        "  elif operator == \"<=\":\n",
        "    df[modify_col] = (df[modify_col] <= criteria).astype(int)\n",
        "  elif operator == \">=\":\n",
        "    df[modify_col] = (df[modify_col] >= criteria).astype(int)\n",
        "  elif operator == \"==\":\n",
        "    df[modify_col] = (df[modify_col] == criteria).astype(int)\n",
        "  elif operator == \"!=\":\n",
        "    df[modify_col] = (df[modify_col] != criteria).astype(int)\n",
        "\n",
        "  return df\n",
        "\n",
        "print(\"Ready DataFrame Operation Done\")\n",
        "print(datetime.datetime.now())"
      ],
      "metadata": {
        "cellView": "form",
        "id": "MLiRgTupo__y",
        "colab": {
          "base_uri": "https://localhost:8080/"
        },
        "outputId": "4226b1ca-e933-422b-f5ac-34fd5b6266d6"
      },
      "execution_count": null,
      "outputs": [
        {
          "output_type": "stream",
          "name": "stdout",
          "text": [
            "Ready DataFrame Operation Done\n",
            "2023-04-11 13:47:58.254463\n"
          ]
        }
      ],
      "id": "MLiRgTupo__y"
    },
    {
      "cell_type": "code",
      "source": [],
      "metadata": {
        "id": "doSPrWlak4Ph"
      },
      "id": "doSPrWlak4Ph",
      "execution_count": null,
      "outputs": []
    },
    {
      "cell_type": "markdown",
      "source": [
        "## Start: File Operation"
      ],
      "metadata": {
        "id": "1mfjZTLfS95M"
      },
      "id": "1mfjZTLfS95M"
    },
    {
      "cell_type": "markdown",
      "source": [
        "### List File & Operation"
      ],
      "metadata": {
        "id": "Fx_h_eiQQ5S2"
      },
      "id": "Fx_h_eiQQ5S2"
    },
    {
      "cell_type": "code",
      "source": [
        "#@markdown **Import File Operation**\n",
        "aa = import_file()\n"
      ],
      "metadata": {
        "colab": {
          "base_uri": "https://localhost:8080/",
          "height": 93
        },
        "cellView": "form",
        "id": "NOoQHaKXPtwq",
        "outputId": "8b743b2c-bcc5-450b-90e6-a8d2d4ddaa40"
      },
      "execution_count": null,
      "outputs": [
        {
          "output_type": "display_data",
          "data": {
            "text/plain": [
              "<IPython.core.display.HTML object>"
            ],
            "text/html": [
              "\n",
              "     <input type=\"file\" id=\"files-24864012-28db-4c73-ba82-3fc330157590\" name=\"files[]\" multiple disabled\n",
              "        style=\"border:none\" />\n",
              "     <output id=\"result-24864012-28db-4c73-ba82-3fc330157590\">\n",
              "      Upload widget is only available when the cell has been executed in the\n",
              "      current browser session. Please rerun this cell to enable.\n",
              "      </output>\n",
              "      <script>// Copyright 2017 Google LLC\n",
              "//\n",
              "// Licensed under the Apache License, Version 2.0 (the \"License\");\n",
              "// you may not use this file except in compliance with the License.\n",
              "// You may obtain a copy of the License at\n",
              "//\n",
              "//      http://www.apache.org/licenses/LICENSE-2.0\n",
              "//\n",
              "// Unless required by applicable law or agreed to in writing, software\n",
              "// distributed under the License is distributed on an \"AS IS\" BASIS,\n",
              "// WITHOUT WARRANTIES OR CONDITIONS OF ANY KIND, either express or implied.\n",
              "// See the License for the specific language governing permissions and\n",
              "// limitations under the License.\n",
              "\n",
              "/**\n",
              " * @fileoverview Helpers for google.colab Python module.\n",
              " */\n",
              "(function(scope) {\n",
              "function span(text, styleAttributes = {}) {\n",
              "  const element = document.createElement('span');\n",
              "  element.textContent = text;\n",
              "  for (const key of Object.keys(styleAttributes)) {\n",
              "    element.style[key] = styleAttributes[key];\n",
              "  }\n",
              "  return element;\n",
              "}\n",
              "\n",
              "// Max number of bytes which will be uploaded at a time.\n",
              "const MAX_PAYLOAD_SIZE = 100 * 1024;\n",
              "\n",
              "function _uploadFiles(inputId, outputId) {\n",
              "  const steps = uploadFilesStep(inputId, outputId);\n",
              "  const outputElement = document.getElementById(outputId);\n",
              "  // Cache steps on the outputElement to make it available for the next call\n",
              "  // to uploadFilesContinue from Python.\n",
              "  outputElement.steps = steps;\n",
              "\n",
              "  return _uploadFilesContinue(outputId);\n",
              "}\n",
              "\n",
              "// This is roughly an async generator (not supported in the browser yet),\n",
              "// where there are multiple asynchronous steps and the Python side is going\n",
              "// to poll for completion of each step.\n",
              "// This uses a Promise to block the python side on completion of each step,\n",
              "// then passes the result of the previous step as the input to the next step.\n",
              "function _uploadFilesContinue(outputId) {\n",
              "  const outputElement = document.getElementById(outputId);\n",
              "  const steps = outputElement.steps;\n",
              "\n",
              "  const next = steps.next(outputElement.lastPromiseValue);\n",
              "  return Promise.resolve(next.value.promise).then((value) => {\n",
              "    // Cache the last promise value to make it available to the next\n",
              "    // step of the generator.\n",
              "    outputElement.lastPromiseValue = value;\n",
              "    return next.value.response;\n",
              "  });\n",
              "}\n",
              "\n",
              "/**\n",
              " * Generator function which is called between each async step of the upload\n",
              " * process.\n",
              " * @param {string} inputId Element ID of the input file picker element.\n",
              " * @param {string} outputId Element ID of the output display.\n",
              " * @return {!Iterable<!Object>} Iterable of next steps.\n",
              " */\n",
              "function* uploadFilesStep(inputId, outputId) {\n",
              "  const inputElement = document.getElementById(inputId);\n",
              "  inputElement.disabled = false;\n",
              "\n",
              "  const outputElement = document.getElementById(outputId);\n",
              "  outputElement.innerHTML = '';\n",
              "\n",
              "  const pickedPromise = new Promise((resolve) => {\n",
              "    inputElement.addEventListener('change', (e) => {\n",
              "      resolve(e.target.files);\n",
              "    });\n",
              "  });\n",
              "\n",
              "  const cancel = document.createElement('button');\n",
              "  inputElement.parentElement.appendChild(cancel);\n",
              "  cancel.textContent = 'Cancel upload';\n",
              "  const cancelPromise = new Promise((resolve) => {\n",
              "    cancel.onclick = () => {\n",
              "      resolve(null);\n",
              "    };\n",
              "  });\n",
              "\n",
              "  // Wait for the user to pick the files.\n",
              "  const files = yield {\n",
              "    promise: Promise.race([pickedPromise, cancelPromise]),\n",
              "    response: {\n",
              "      action: 'starting',\n",
              "    }\n",
              "  };\n",
              "\n",
              "  cancel.remove();\n",
              "\n",
              "  // Disable the input element since further picks are not allowed.\n",
              "  inputElement.disabled = true;\n",
              "\n",
              "  if (!files) {\n",
              "    return {\n",
              "      response: {\n",
              "        action: 'complete',\n",
              "      }\n",
              "    };\n",
              "  }\n",
              "\n",
              "  for (const file of files) {\n",
              "    const li = document.createElement('li');\n",
              "    li.append(span(file.name, {fontWeight: 'bold'}));\n",
              "    li.append(span(\n",
              "        `(${file.type || 'n/a'}) - ${file.size} bytes, ` +\n",
              "        `last modified: ${\n",
              "            file.lastModifiedDate ? file.lastModifiedDate.toLocaleDateString() :\n",
              "                                    'n/a'} - `));\n",
              "    const percent = span('0% done');\n",
              "    li.appendChild(percent);\n",
              "\n",
              "    outputElement.appendChild(li);\n",
              "\n",
              "    const fileDataPromise = new Promise((resolve) => {\n",
              "      const reader = new FileReader();\n",
              "      reader.onload = (e) => {\n",
              "        resolve(e.target.result);\n",
              "      };\n",
              "      reader.readAsArrayBuffer(file);\n",
              "    });\n",
              "    // Wait for the data to be ready.\n",
              "    let fileData = yield {\n",
              "      promise: fileDataPromise,\n",
              "      response: {\n",
              "        action: 'continue',\n",
              "      }\n",
              "    };\n",
              "\n",
              "    // Use a chunked sending to avoid message size limits. See b/62115660.\n",
              "    let position = 0;\n",
              "    do {\n",
              "      const length = Math.min(fileData.byteLength - position, MAX_PAYLOAD_SIZE);\n",
              "      const chunk = new Uint8Array(fileData, position, length);\n",
              "      position += length;\n",
              "\n",
              "      const base64 = btoa(String.fromCharCode.apply(null, chunk));\n",
              "      yield {\n",
              "        response: {\n",
              "          action: 'append',\n",
              "          file: file.name,\n",
              "          data: base64,\n",
              "        },\n",
              "      };\n",
              "\n",
              "      let percentDone = fileData.byteLength === 0 ?\n",
              "          100 :\n",
              "          Math.round((position / fileData.byteLength) * 100);\n",
              "      percent.textContent = `${percentDone}% done`;\n",
              "\n",
              "    } while (position < fileData.byteLength);\n",
              "  }\n",
              "\n",
              "  // All done.\n",
              "  yield {\n",
              "    response: {\n",
              "      action: 'complete',\n",
              "    }\n",
              "  };\n",
              "}\n",
              "\n",
              "scope.google = scope.google || {};\n",
              "scope.google.colab = scope.google.colab || {};\n",
              "scope.google.colab._files = {\n",
              "  _uploadFiles,\n",
              "  _uploadFilesContinue,\n",
              "};\n",
              "})(self);\n",
              "</script> "
            ]
          },
          "metadata": {}
        },
        {
          "output_type": "stream",
          "name": "stdout",
          "text": [
            "Saving type3_re_long_table_mod.csv to type3_re_long_table_mod.csv\n",
            "File Upload Done\n",
            "2023-04-11 13:44:57.655325\n"
          ]
        }
      ],
      "id": "NOoQHaKXPtwq"
    },
    {
      "cell_type": "code",
      "source": [
        "#@markdown **Select File For Next Operation**\n",
        "print(\"Select File For Next Operation\")\n",
        "file_list = list_file()\n",
        "# print(file_list)\n",
        "display(file_list)\n",
        "print(\"--------------------\")"
      ],
      "metadata": {
        "colab": {
          "base_uri": "https://localhost:8080/",
          "height": 84,
          "referenced_widgets": [
            "263e038fa21c4b3e9f92ef3229684a44",
            "3b3af16c8fac4595a28ac56747baed3e",
            "08ad38749d8b4e6cb2443c8259ea0b31"
          ]
        },
        "cellView": "form",
        "id": "MU6zir8TSop6",
        "outputId": "e6ef4ec7-e412-40b9-c007-e8a4c68be0e7"
      },
      "execution_count": null,
      "outputs": [
        {
          "output_type": "stream",
          "name": "stdout",
          "text": [
            "Select File For Next Operation\n"
          ]
        },
        {
          "output_type": "display_data",
          "data": {
            "text/plain": [
              "Dropdown(options=('Type 3_re_after_0216.csv', 'Type 3_re_all_0216.csv', 'Type 3_re_test_3000_0319.csv', 'type3…"
            ],
            "application/vnd.jupyter.widget-view+json": {
              "version_major": 2,
              "version_minor": 0,
              "model_id": "263e038fa21c4b3e9f92ef3229684a44"
            }
          },
          "metadata": {}
        },
        {
          "output_type": "stream",
          "name": "stdout",
          "text": [
            "--------------------\n"
          ]
        }
      ],
      "id": "MU6zir8TSop6"
    },
    {
      "cell_type": "code",
      "source": [
        "#@markdown ####**File Operation:**\n",
        "\n",
        "file_operation = \"Import File\" #@param [\"Import File\", \"Delete File\"]\n",
        "encoding = \"utf-8\" \n",
        "\n",
        "data_name = file_list.value\n",
        "# breakpoint()\n",
        "if file_operation == \"Import File\":\n",
        "  cell_rename = False\n",
        "  exit_test_set = False\n",
        "  df_raw, cell_rename, exit_test_set = operate_file(data_name, file_operation)\n",
        "  print(df_raw.columns)\n",
        "else:\n",
        "  operate_file(data_name, file_operation)\n",
        "\n",
        "print(datetime.datetime.now())\n"
      ],
      "metadata": {
        "colab": {
          "base_uri": "https://localhost:8080/",
          "height": 293
        },
        "id": "_GgKIy9WTnlI",
        "outputId": "9409957b-afd3-44c6-d68b-d41911baeafa",
        "cellView": "form"
      },
      "execution_count": null,
      "outputs": [
        {
          "output_type": "stream",
          "name": "stdout",
          "text": [
            "Dataframe Size:  (2112, 14)\n"
          ]
        },
        {
          "output_type": "display_data",
          "data": {
            "text/plain": [
              "   weight(g)        L4        L5         L7         L8         L9       L10  \\\n",
              "0      325.0  5.880397  2.939168  34.962940   4.557035  23.484832  0.089845   \n",
              "1      325.0  5.880397  2.939168  34.962940   4.557035  23.484832  0.089845   \n",
              "2      325.0  5.880397  2.939168  34.962940   4.557035  23.484832  0.089845   \n",
              "3      158.0  5.964124  2.575482  41.897327  10.389364  28.622626  0.040993   \n",
              "4      158.0  5.964124  2.575482  41.897327  10.389364  28.622626  0.040993   \n",
              "\n",
              "         L11       L12       L13        L14   zone     life   ln_life  \n",
              "0   2.486663  2.725964  3.330857  14.628889  zone1  0.01070 -4.537512  \n",
              "1   2.486663  2.725964  3.330857  14.628889  zone2  0.00949 -4.657517  \n",
              "2   2.486663  2.725964  3.330857  14.628889  zone3  0.00140 -6.571283  \n",
              "3  55.461086  2.681858  1.505366  31.960806  zone1  0.00730 -4.919881  \n",
              "4  55.461086  2.681858  1.505366  31.960806  zone2  0.00694 -4.970454  "
            ],
            "text/html": [
              "\n",
              "  <div id=\"df-8634bb9c-4a71-4f5b-a2a6-85b194f3ebc6\">\n",
              "    <div class=\"colab-df-container\">\n",
              "      <div>\n",
              "<style scoped>\n",
              "    .dataframe tbody tr th:only-of-type {\n",
              "        vertical-align: middle;\n",
              "    }\n",
              "\n",
              "    .dataframe tbody tr th {\n",
              "        vertical-align: top;\n",
              "    }\n",
              "\n",
              "    .dataframe thead th {\n",
              "        text-align: right;\n",
              "    }\n",
              "</style>\n",
              "<table border=\"1\" class=\"dataframe\">\n",
              "  <thead>\n",
              "    <tr style=\"text-align: right;\">\n",
              "      <th></th>\n",
              "      <th>weight(g)</th>\n",
              "      <th>L4</th>\n",
              "      <th>L5</th>\n",
              "      <th>L7</th>\n",
              "      <th>L8</th>\n",
              "      <th>L9</th>\n",
              "      <th>L10</th>\n",
              "      <th>L11</th>\n",
              "      <th>L12</th>\n",
              "      <th>L13</th>\n",
              "      <th>L14</th>\n",
              "      <th>zone</th>\n",
              "      <th>life</th>\n",
              "      <th>ln_life</th>\n",
              "    </tr>\n",
              "  </thead>\n",
              "  <tbody>\n",
              "    <tr>\n",
              "      <th>0</th>\n",
              "      <td>325.0</td>\n",
              "      <td>5.880397</td>\n",
              "      <td>2.939168</td>\n",
              "      <td>34.962940</td>\n",
              "      <td>4.557035</td>\n",
              "      <td>23.484832</td>\n",
              "      <td>0.089845</td>\n",
              "      <td>2.486663</td>\n",
              "      <td>2.725964</td>\n",
              "      <td>3.330857</td>\n",
              "      <td>14.628889</td>\n",
              "      <td>zone1</td>\n",
              "      <td>0.01070</td>\n",
              "      <td>-4.537512</td>\n",
              "    </tr>\n",
              "    <tr>\n",
              "      <th>1</th>\n",
              "      <td>325.0</td>\n",
              "      <td>5.880397</td>\n",
              "      <td>2.939168</td>\n",
              "      <td>34.962940</td>\n",
              "      <td>4.557035</td>\n",
              "      <td>23.484832</td>\n",
              "      <td>0.089845</td>\n",
              "      <td>2.486663</td>\n",
              "      <td>2.725964</td>\n",
              "      <td>3.330857</td>\n",
              "      <td>14.628889</td>\n",
              "      <td>zone2</td>\n",
              "      <td>0.00949</td>\n",
              "      <td>-4.657517</td>\n",
              "    </tr>\n",
              "    <tr>\n",
              "      <th>2</th>\n",
              "      <td>325.0</td>\n",
              "      <td>5.880397</td>\n",
              "      <td>2.939168</td>\n",
              "      <td>34.962940</td>\n",
              "      <td>4.557035</td>\n",
              "      <td>23.484832</td>\n",
              "      <td>0.089845</td>\n",
              "      <td>2.486663</td>\n",
              "      <td>2.725964</td>\n",
              "      <td>3.330857</td>\n",
              "      <td>14.628889</td>\n",
              "      <td>zone3</td>\n",
              "      <td>0.00140</td>\n",
              "      <td>-6.571283</td>\n",
              "    </tr>\n",
              "    <tr>\n",
              "      <th>3</th>\n",
              "      <td>158.0</td>\n",
              "      <td>5.964124</td>\n",
              "      <td>2.575482</td>\n",
              "      <td>41.897327</td>\n",
              "      <td>10.389364</td>\n",
              "      <td>28.622626</td>\n",
              "      <td>0.040993</td>\n",
              "      <td>55.461086</td>\n",
              "      <td>2.681858</td>\n",
              "      <td>1.505366</td>\n",
              "      <td>31.960806</td>\n",
              "      <td>zone1</td>\n",
              "      <td>0.00730</td>\n",
              "      <td>-4.919881</td>\n",
              "    </tr>\n",
              "    <tr>\n",
              "      <th>4</th>\n",
              "      <td>158.0</td>\n",
              "      <td>5.964124</td>\n",
              "      <td>2.575482</td>\n",
              "      <td>41.897327</td>\n",
              "      <td>10.389364</td>\n",
              "      <td>28.622626</td>\n",
              "      <td>0.040993</td>\n",
              "      <td>55.461086</td>\n",
              "      <td>2.681858</td>\n",
              "      <td>1.505366</td>\n",
              "      <td>31.960806</td>\n",
              "      <td>zone2</td>\n",
              "      <td>0.00694</td>\n",
              "      <td>-4.970454</td>\n",
              "    </tr>\n",
              "  </tbody>\n",
              "</table>\n",
              "</div>\n",
              "      <button class=\"colab-df-convert\" onclick=\"convertToInteractive('df-8634bb9c-4a71-4f5b-a2a6-85b194f3ebc6')\"\n",
              "              title=\"Convert this dataframe to an interactive table.\"\n",
              "              style=\"display:none;\">\n",
              "        \n",
              "  <svg xmlns=\"http://www.w3.org/2000/svg\" height=\"24px\"viewBox=\"0 0 24 24\"\n",
              "       width=\"24px\">\n",
              "    <path d=\"M0 0h24v24H0V0z\" fill=\"none\"/>\n",
              "    <path d=\"M18.56 5.44l.94 2.06.94-2.06 2.06-.94-2.06-.94-.94-2.06-.94 2.06-2.06.94zm-11 1L8.5 8.5l.94-2.06 2.06-.94-2.06-.94L8.5 2.5l-.94 2.06-2.06.94zm10 10l.94 2.06.94-2.06 2.06-.94-2.06-.94-.94-2.06-.94 2.06-2.06.94z\"/><path d=\"M17.41 7.96l-1.37-1.37c-.4-.4-.92-.59-1.43-.59-.52 0-1.04.2-1.43.59L10.3 9.45l-7.72 7.72c-.78.78-.78 2.05 0 2.83L4 21.41c.39.39.9.59 1.41.59.51 0 1.02-.2 1.41-.59l7.78-7.78 2.81-2.81c.8-.78.8-2.07 0-2.86zM5.41 20L4 18.59l7.72-7.72 1.47 1.35L5.41 20z\"/>\n",
              "  </svg>\n",
              "      </button>\n",
              "      \n",
              "  <style>\n",
              "    .colab-df-container {\n",
              "      display:flex;\n",
              "      flex-wrap:wrap;\n",
              "      gap: 12px;\n",
              "    }\n",
              "\n",
              "    .colab-df-convert {\n",
              "      background-color: #E8F0FE;\n",
              "      border: none;\n",
              "      border-radius: 50%;\n",
              "      cursor: pointer;\n",
              "      display: none;\n",
              "      fill: #1967D2;\n",
              "      height: 32px;\n",
              "      padding: 0 0 0 0;\n",
              "      width: 32px;\n",
              "    }\n",
              "\n",
              "    .colab-df-convert:hover {\n",
              "      background-color: #E2EBFA;\n",
              "      box-shadow: 0px 1px 2px rgba(60, 64, 67, 0.3), 0px 1px 3px 1px rgba(60, 64, 67, 0.15);\n",
              "      fill: #174EA6;\n",
              "    }\n",
              "\n",
              "    [theme=dark] .colab-df-convert {\n",
              "      background-color: #3B4455;\n",
              "      fill: #D2E3FC;\n",
              "    }\n",
              "\n",
              "    [theme=dark] .colab-df-convert:hover {\n",
              "      background-color: #434B5C;\n",
              "      box-shadow: 0px 1px 3px 1px rgba(0, 0, 0, 0.15);\n",
              "      filter: drop-shadow(0px 1px 2px rgba(0, 0, 0, 0.3));\n",
              "      fill: #FFFFFF;\n",
              "    }\n",
              "  </style>\n",
              "\n",
              "      <script>\n",
              "        const buttonEl =\n",
              "          document.querySelector('#df-8634bb9c-4a71-4f5b-a2a6-85b194f3ebc6 button.colab-df-convert');\n",
              "        buttonEl.style.display =\n",
              "          google.colab.kernel.accessAllowed ? 'block' : 'none';\n",
              "\n",
              "        async function convertToInteractive(key) {\n",
              "          const element = document.querySelector('#df-8634bb9c-4a71-4f5b-a2a6-85b194f3ebc6');\n",
              "          const dataTable =\n",
              "            await google.colab.kernel.invokeFunction('convertToInteractive',\n",
              "                                                     [key], {});\n",
              "          if (!dataTable) return;\n",
              "\n",
              "          const docLinkHtml = 'Like what you see? Visit the ' +\n",
              "            '<a target=\"_blank\" href=https://colab.research.google.com/notebooks/data_table.ipynb>data table notebook</a>'\n",
              "            + ' to learn more about interactive tables.';\n",
              "          element.innerHTML = '';\n",
              "          dataTable['output_type'] = 'display_data';\n",
              "          await google.colab.output.renderOutput(dataTable, element);\n",
              "          const docLink = document.createElement('div');\n",
              "          docLink.innerHTML = docLinkHtml;\n",
              "          element.appendChild(docLink);\n",
              "        }\n",
              "      </script>\n",
              "    </div>\n",
              "  </div>\n",
              "  "
            ]
          },
          "metadata": {}
        },
        {
          "output_type": "stream",
          "name": "stdout",
          "text": [
            "Index(['weight(g)', 'L4', 'L5', 'L7', 'L8', 'L9', 'L10', 'L11', 'L12', 'L13',\n",
            "       'L14', 'zone', 'life', 'ln_life'],\n",
            "      dtype='object')\n",
            "2023-04-11 13:45:22.861509\n"
          ]
        }
      ],
      "id": "_GgKIy9WTnlI"
    },
    {
      "cell_type": "code",
      "execution_count": null,
      "id": "a9c03226",
      "metadata": {
        "ExecuteTime": {
          "end_time": "2023-03-28T08:46:02.351675Z",
          "start_time": "2023-03-28T08:46:00.766665Z"
        },
        "id": "a9c03226"
      },
      "outputs": [],
      "source": [
        "import pandas as pd\n",
        "\n",
        "df = pd.read_csv('D:/SmartUQ/Latch DATA/Type 3/Type 3_re_all_0216.csv')\n",
        "#‪D:\\SmartUQ\\Latch DATA\\Type 3\\Type 3_re_all_0216_minlife.csv"
      ]
    },
    {
      "cell_type": "code",
      "execution_count": null,
      "id": "3d9d021d",
      "metadata": {
        "ExecuteTime": {
          "end_time": "2023-03-28T08:46:03.339603Z",
          "start_time": "2023-03-28T08:46:03.302603Z"
        },
        "scrolled": true,
        "colab": {
          "base_uri": "https://localhost:8080/",
          "height": 423
        },
        "id": "3d9d021d",
        "outputId": "63a21d23-d495-4ccb-edaa-fcfaefd0981e"
      },
      "outputs": [
        {
          "output_type": "execute_result",
          "data": {
            "text/plain": [
              "      weight(g)        L4        L5         L7         L8         L9  \\\n",
              "0         325.0  5.880397  2.939168  34.962940   4.557035  23.484832   \n",
              "1         325.0  5.880397  2.939168  34.962940   4.557035  23.484832   \n",
              "2         325.0  5.880397  2.939168  34.962940   4.557035  23.484832   \n",
              "3         158.0  5.964124  2.575482  41.897327  10.389364  28.622626   \n",
              "4         158.0  5.964124  2.575482  41.897327  10.389364  28.622626   \n",
              "...         ...       ...       ...        ...        ...        ...   \n",
              "2107      257.0  6.708250  2.336896  41.145479   2.293308  21.141842   \n",
              "2108      257.0  6.708250  2.336896  41.145479   2.293308  21.141842   \n",
              "2109      473.0  6.855744  5.873440  26.012294  13.075638  22.657062   \n",
              "2110      473.0  6.855744  5.873440  26.012294  13.075638  22.657062   \n",
              "2111      473.0  6.855744  5.873440  26.012294  13.075638  22.657062   \n",
              "\n",
              "           L10        L11        L12       L13        L14   zone  \\\n",
              "0     0.089845   2.486663   2.725964  3.330857  14.628889  zone1   \n",
              "1     0.089845   2.486663   2.725964  3.330857  14.628889  zone2   \n",
              "2     0.089845   2.486663   2.725964  3.330857  14.628889  zone3   \n",
              "3     0.040993  55.461086   2.681858  1.505366  31.960806  zone1   \n",
              "4     0.040993  55.461086   2.681858  1.505366  31.960806  zone2   \n",
              "...        ...        ...        ...       ...        ...    ...   \n",
              "2107  0.680551  75.094864  16.606855  1.366296  31.618219  zone2   \n",
              "2108  0.680551  75.094864  16.606855  1.366296  31.618219  zone3   \n",
              "2109  0.200206  67.834456   6.109916  2.695623  31.951013  zone1   \n",
              "2110  0.200206  67.834456   6.109916  2.695623  31.951013  zone2   \n",
              "2111  0.200206  67.834456   6.109916  2.695623  31.951013  zone3   \n",
              "\n",
              "              life    ln_life  \n",
              "0     1.070000e-02  -4.537512  \n",
              "1     9.490000e-03  -4.657517  \n",
              "2     1.400000e-03  -6.571283  \n",
              "3     7.300000e-03  -4.919881  \n",
              "4     6.940000e-03  -4.970454  \n",
              "...            ...        ...  \n",
              "2107  1.000000e+20  46.051702  \n",
              "2108  1.000000e+20  46.051702  \n",
              "2109  1.000000e+20  46.051702  \n",
              "2110  1.000000e+20  46.051702  \n",
              "2111  1.000000e+20  46.051702  \n",
              "\n",
              "[2112 rows x 14 columns]"
            ],
            "text/html": [
              "\n",
              "  <div id=\"df-0c71b55f-9e1e-4c43-8f81-beca28b98f10\">\n",
              "    <div class=\"colab-df-container\">\n",
              "      <div>\n",
              "<style scoped>\n",
              "    .dataframe tbody tr th:only-of-type {\n",
              "        vertical-align: middle;\n",
              "    }\n",
              "\n",
              "    .dataframe tbody tr th {\n",
              "        vertical-align: top;\n",
              "    }\n",
              "\n",
              "    .dataframe thead th {\n",
              "        text-align: right;\n",
              "    }\n",
              "</style>\n",
              "<table border=\"1\" class=\"dataframe\">\n",
              "  <thead>\n",
              "    <tr style=\"text-align: right;\">\n",
              "      <th></th>\n",
              "      <th>weight(g)</th>\n",
              "      <th>L4</th>\n",
              "      <th>L5</th>\n",
              "      <th>L7</th>\n",
              "      <th>L8</th>\n",
              "      <th>L9</th>\n",
              "      <th>L10</th>\n",
              "      <th>L11</th>\n",
              "      <th>L12</th>\n",
              "      <th>L13</th>\n",
              "      <th>L14</th>\n",
              "      <th>zone</th>\n",
              "      <th>life</th>\n",
              "      <th>ln_life</th>\n",
              "    </tr>\n",
              "  </thead>\n",
              "  <tbody>\n",
              "    <tr>\n",
              "      <th>0</th>\n",
              "      <td>325.0</td>\n",
              "      <td>5.880397</td>\n",
              "      <td>2.939168</td>\n",
              "      <td>34.962940</td>\n",
              "      <td>4.557035</td>\n",
              "      <td>23.484832</td>\n",
              "      <td>0.089845</td>\n",
              "      <td>2.486663</td>\n",
              "      <td>2.725964</td>\n",
              "      <td>3.330857</td>\n",
              "      <td>14.628889</td>\n",
              "      <td>zone1</td>\n",
              "      <td>1.070000e-02</td>\n",
              "      <td>-4.537512</td>\n",
              "    </tr>\n",
              "    <tr>\n",
              "      <th>1</th>\n",
              "      <td>325.0</td>\n",
              "      <td>5.880397</td>\n",
              "      <td>2.939168</td>\n",
              "      <td>34.962940</td>\n",
              "      <td>4.557035</td>\n",
              "      <td>23.484832</td>\n",
              "      <td>0.089845</td>\n",
              "      <td>2.486663</td>\n",
              "      <td>2.725964</td>\n",
              "      <td>3.330857</td>\n",
              "      <td>14.628889</td>\n",
              "      <td>zone2</td>\n",
              "      <td>9.490000e-03</td>\n",
              "      <td>-4.657517</td>\n",
              "    </tr>\n",
              "    <tr>\n",
              "      <th>2</th>\n",
              "      <td>325.0</td>\n",
              "      <td>5.880397</td>\n",
              "      <td>2.939168</td>\n",
              "      <td>34.962940</td>\n",
              "      <td>4.557035</td>\n",
              "      <td>23.484832</td>\n",
              "      <td>0.089845</td>\n",
              "      <td>2.486663</td>\n",
              "      <td>2.725964</td>\n",
              "      <td>3.330857</td>\n",
              "      <td>14.628889</td>\n",
              "      <td>zone3</td>\n",
              "      <td>1.400000e-03</td>\n",
              "      <td>-6.571283</td>\n",
              "    </tr>\n",
              "    <tr>\n",
              "      <th>3</th>\n",
              "      <td>158.0</td>\n",
              "      <td>5.964124</td>\n",
              "      <td>2.575482</td>\n",
              "      <td>41.897327</td>\n",
              "      <td>10.389364</td>\n",
              "      <td>28.622626</td>\n",
              "      <td>0.040993</td>\n",
              "      <td>55.461086</td>\n",
              "      <td>2.681858</td>\n",
              "      <td>1.505366</td>\n",
              "      <td>31.960806</td>\n",
              "      <td>zone1</td>\n",
              "      <td>7.300000e-03</td>\n",
              "      <td>-4.919881</td>\n",
              "    </tr>\n",
              "    <tr>\n",
              "      <th>4</th>\n",
              "      <td>158.0</td>\n",
              "      <td>5.964124</td>\n",
              "      <td>2.575482</td>\n",
              "      <td>41.897327</td>\n",
              "      <td>10.389364</td>\n",
              "      <td>28.622626</td>\n",
              "      <td>0.040993</td>\n",
              "      <td>55.461086</td>\n",
              "      <td>2.681858</td>\n",
              "      <td>1.505366</td>\n",
              "      <td>31.960806</td>\n",
              "      <td>zone2</td>\n",
              "      <td>6.940000e-03</td>\n",
              "      <td>-4.970454</td>\n",
              "    </tr>\n",
              "    <tr>\n",
              "      <th>...</th>\n",
              "      <td>...</td>\n",
              "      <td>...</td>\n",
              "      <td>...</td>\n",
              "      <td>...</td>\n",
              "      <td>...</td>\n",
              "      <td>...</td>\n",
              "      <td>...</td>\n",
              "      <td>...</td>\n",
              "      <td>...</td>\n",
              "      <td>...</td>\n",
              "      <td>...</td>\n",
              "      <td>...</td>\n",
              "      <td>...</td>\n",
              "      <td>...</td>\n",
              "    </tr>\n",
              "    <tr>\n",
              "      <th>2107</th>\n",
              "      <td>257.0</td>\n",
              "      <td>6.708250</td>\n",
              "      <td>2.336896</td>\n",
              "      <td>41.145479</td>\n",
              "      <td>2.293308</td>\n",
              "      <td>21.141842</td>\n",
              "      <td>0.680551</td>\n",
              "      <td>75.094864</td>\n",
              "      <td>16.606855</td>\n",
              "      <td>1.366296</td>\n",
              "      <td>31.618219</td>\n",
              "      <td>zone2</td>\n",
              "      <td>1.000000e+20</td>\n",
              "      <td>46.051702</td>\n",
              "    </tr>\n",
              "    <tr>\n",
              "      <th>2108</th>\n",
              "      <td>257.0</td>\n",
              "      <td>6.708250</td>\n",
              "      <td>2.336896</td>\n",
              "      <td>41.145479</td>\n",
              "      <td>2.293308</td>\n",
              "      <td>21.141842</td>\n",
              "      <td>0.680551</td>\n",
              "      <td>75.094864</td>\n",
              "      <td>16.606855</td>\n",
              "      <td>1.366296</td>\n",
              "      <td>31.618219</td>\n",
              "      <td>zone3</td>\n",
              "      <td>1.000000e+20</td>\n",
              "      <td>46.051702</td>\n",
              "    </tr>\n",
              "    <tr>\n",
              "      <th>2109</th>\n",
              "      <td>473.0</td>\n",
              "      <td>6.855744</td>\n",
              "      <td>5.873440</td>\n",
              "      <td>26.012294</td>\n",
              "      <td>13.075638</td>\n",
              "      <td>22.657062</td>\n",
              "      <td>0.200206</td>\n",
              "      <td>67.834456</td>\n",
              "      <td>6.109916</td>\n",
              "      <td>2.695623</td>\n",
              "      <td>31.951013</td>\n",
              "      <td>zone1</td>\n",
              "      <td>1.000000e+20</td>\n",
              "      <td>46.051702</td>\n",
              "    </tr>\n",
              "    <tr>\n",
              "      <th>2110</th>\n",
              "      <td>473.0</td>\n",
              "      <td>6.855744</td>\n",
              "      <td>5.873440</td>\n",
              "      <td>26.012294</td>\n",
              "      <td>13.075638</td>\n",
              "      <td>22.657062</td>\n",
              "      <td>0.200206</td>\n",
              "      <td>67.834456</td>\n",
              "      <td>6.109916</td>\n",
              "      <td>2.695623</td>\n",
              "      <td>31.951013</td>\n",
              "      <td>zone2</td>\n",
              "      <td>1.000000e+20</td>\n",
              "      <td>46.051702</td>\n",
              "    </tr>\n",
              "    <tr>\n",
              "      <th>2111</th>\n",
              "      <td>473.0</td>\n",
              "      <td>6.855744</td>\n",
              "      <td>5.873440</td>\n",
              "      <td>26.012294</td>\n",
              "      <td>13.075638</td>\n",
              "      <td>22.657062</td>\n",
              "      <td>0.200206</td>\n",
              "      <td>67.834456</td>\n",
              "      <td>6.109916</td>\n",
              "      <td>2.695623</td>\n",
              "      <td>31.951013</td>\n",
              "      <td>zone3</td>\n",
              "      <td>1.000000e+20</td>\n",
              "      <td>46.051702</td>\n",
              "    </tr>\n",
              "  </tbody>\n",
              "</table>\n",
              "<p>2112 rows × 14 columns</p>\n",
              "</div>\n",
              "      <button class=\"colab-df-convert\" onclick=\"convertToInteractive('df-0c71b55f-9e1e-4c43-8f81-beca28b98f10')\"\n",
              "              title=\"Convert this dataframe to an interactive table.\"\n",
              "              style=\"display:none;\">\n",
              "        \n",
              "  <svg xmlns=\"http://www.w3.org/2000/svg\" height=\"24px\"viewBox=\"0 0 24 24\"\n",
              "       width=\"24px\">\n",
              "    <path d=\"M0 0h24v24H0V0z\" fill=\"none\"/>\n",
              "    <path d=\"M18.56 5.44l.94 2.06.94-2.06 2.06-.94-2.06-.94-.94-2.06-.94 2.06-2.06.94zm-11 1L8.5 8.5l.94-2.06 2.06-.94-2.06-.94L8.5 2.5l-.94 2.06-2.06.94zm10 10l.94 2.06.94-2.06 2.06-.94-2.06-.94-.94-2.06-.94 2.06-2.06.94z\"/><path d=\"M17.41 7.96l-1.37-1.37c-.4-.4-.92-.59-1.43-.59-.52 0-1.04.2-1.43.59L10.3 9.45l-7.72 7.72c-.78.78-.78 2.05 0 2.83L4 21.41c.39.39.9.59 1.41.59.51 0 1.02-.2 1.41-.59l7.78-7.78 2.81-2.81c.8-.78.8-2.07 0-2.86zM5.41 20L4 18.59l7.72-7.72 1.47 1.35L5.41 20z\"/>\n",
              "  </svg>\n",
              "      </button>\n",
              "      \n",
              "  <style>\n",
              "    .colab-df-container {\n",
              "      display:flex;\n",
              "      flex-wrap:wrap;\n",
              "      gap: 12px;\n",
              "    }\n",
              "\n",
              "    .colab-df-convert {\n",
              "      background-color: #E8F0FE;\n",
              "      border: none;\n",
              "      border-radius: 50%;\n",
              "      cursor: pointer;\n",
              "      display: none;\n",
              "      fill: #1967D2;\n",
              "      height: 32px;\n",
              "      padding: 0 0 0 0;\n",
              "      width: 32px;\n",
              "    }\n",
              "\n",
              "    .colab-df-convert:hover {\n",
              "      background-color: #E2EBFA;\n",
              "      box-shadow: 0px 1px 2px rgba(60, 64, 67, 0.3), 0px 1px 3px 1px rgba(60, 64, 67, 0.15);\n",
              "      fill: #174EA6;\n",
              "    }\n",
              "\n",
              "    [theme=dark] .colab-df-convert {\n",
              "      background-color: #3B4455;\n",
              "      fill: #D2E3FC;\n",
              "    }\n",
              "\n",
              "    [theme=dark] .colab-df-convert:hover {\n",
              "      background-color: #434B5C;\n",
              "      box-shadow: 0px 1px 3px 1px rgba(0, 0, 0, 0.15);\n",
              "      filter: drop-shadow(0px 1px 2px rgba(0, 0, 0, 0.3));\n",
              "      fill: #FFFFFF;\n",
              "    }\n",
              "  </style>\n",
              "\n",
              "      <script>\n",
              "        const buttonEl =\n",
              "          document.querySelector('#df-0c71b55f-9e1e-4c43-8f81-beca28b98f10 button.colab-df-convert');\n",
              "        buttonEl.style.display =\n",
              "          google.colab.kernel.accessAllowed ? 'block' : 'none';\n",
              "\n",
              "        async function convertToInteractive(key) {\n",
              "          const element = document.querySelector('#df-0c71b55f-9e1e-4c43-8f81-beca28b98f10');\n",
              "          const dataTable =\n",
              "            await google.colab.kernel.invokeFunction('convertToInteractive',\n",
              "                                                     [key], {});\n",
              "          if (!dataTable) return;\n",
              "\n",
              "          const docLinkHtml = 'Like what you see? Visit the ' +\n",
              "            '<a target=\"_blank\" href=https://colab.research.google.com/notebooks/data_table.ipynb>data table notebook</a>'\n",
              "            + ' to learn more about interactive tables.';\n",
              "          element.innerHTML = '';\n",
              "          dataTable['output_type'] = 'display_data';\n",
              "          await google.colab.output.renderOutput(dataTable, element);\n",
              "          const docLink = document.createElement('div');\n",
              "          docLink.innerHTML = docLinkHtml;\n",
              "          element.appendChild(docLink);\n",
              "        }\n",
              "      </script>\n",
              "    </div>\n",
              "  </div>\n",
              "  "
            ]
          },
          "metadata": {},
          "execution_count": 33
        }
      ],
      "source": [
        "# df = df_raw.copy()\n",
        "# df\n",
        "df_raw"
      ]
    },
    {
      "cell_type": "markdown",
      "source": [
        "##############################################"
      ],
      "metadata": {
        "id": "jdD60SUI3iY-"
      },
      "id": "jdD60SUI3iY-"
    },
    {
      "cell_type": "markdown",
      "source": [
        "### Reset Status"
      ],
      "metadata": {
        "id": "EzCqKJ3LEsH0"
      },
      "id": "EzCqKJ3LEsH0"
    },
    {
      "cell_type": "code",
      "source": [
        "#@markdown ##**Reset (Optional)**\n",
        "#@markdown ####**Reset Parameter:** Run While Required\n",
        "cell_rename = False\n",
        "exit_test_set = False\n",
        "tune_model = False\n",
        "print(datetime.datetime.now())\n",
        "print(\"Reset Done!\")"
      ],
      "metadata": {
        "cellView": "form",
        "id": "sgW701GLWUT1",
        "colab": {
          "base_uri": "https://localhost:8080/"
        },
        "outputId": "1d6c020d-8111-44f3-cb13-69b8261976d7"
      },
      "execution_count": null,
      "outputs": [
        {
          "output_type": "stream",
          "name": "stdout",
          "text": [
            "2023-04-11 14:01:56.076781\n",
            "Reset Done!\n"
          ]
        }
      ],
      "id": "sgW701GLWUT1"
    },
    {
      "cell_type": "markdown",
      "source": [
        "### Data Prepare: Single Columns (Optional)"
      ],
      "metadata": {
        "id": "FcG2AXlaIFIv"
      },
      "id": "FcG2AXlaIFIv"
    },
    {
      "cell_type": "code",
      "source": [
        "#@markdown ####Choose Modify Column\n",
        "if cell_rename == False:\n",
        "  df = df_raw.copy()\n",
        "\n",
        "\n",
        "dpdn_column_list = list(df.columns)\n",
        "# dropdown_list.append(\"None\")\n",
        "\n",
        "# dropdown_x_var = widgets.Dropdown(options =dropdown_list)\n",
        "dpdn_mod_column = widgets.Dropdown(options =dpdn_column_list)\n",
        "# dropdown_y_predict = widgets.Dropdown(options =dropdown_list)\n",
        "\n",
        "print(\"Select Modify Column\")\n",
        "display(dpdn_mod_column)\n",
        "print(\"--------------------\")\n"
      ],
      "metadata": {
        "colab": {
          "base_uri": "https://localhost:8080/",
          "height": 84,
          "referenced_widgets": [
            "0ac1f491c8c74a53abf8546a84ea697e",
            "d22da32d0584488e85d2bc59b01c4026",
            "82f799639e874fff9860b45ee6696b0b"
          ]
        },
        "cellView": "form",
        "id": "Cm880dL1I6V-",
        "outputId": "f3d0668d-3a79-413a-a5eb-1ec0b4263768"
      },
      "execution_count": null,
      "outputs": [
        {
          "output_type": "stream",
          "name": "stdout",
          "text": [
            "Select Modify Column\n"
          ]
        },
        {
          "output_type": "display_data",
          "data": {
            "text/plain": [
              "Dropdown(options=('weight(g)', 'L4', 'L5', 'L7', 'L8', 'L9', 'L10', 'L11', 'L12', 'L13', 'L14', 'zone', 'life'…"
            ],
            "application/vnd.jupyter.widget-view+json": {
              "version_major": 2,
              "version_minor": 0,
              "model_id": "0ac1f491c8c74a53abf8546a84ea697e"
            }
          },
          "metadata": {}
        },
        {
          "output_type": "stream",
          "name": "stdout",
          "text": [
            "--------------------\n"
          ]
        }
      ],
      "id": "Cm880dL1I6V-"
    },
    {
      "cell_type": "code",
      "source": [
        "#@markdown ###**Data Criteria Judge: Single Columns 2 Level**\n",
        "#@markdown **Binary Type** (0 & 1)\n",
        "\n",
        "#@markdown **Rule:** True -> 1, False -> 0 by astype(int)\n",
        "operator = \"\\u003C\" #@param [\">\", \"<\", \">=\", \"<=\", \"==\", \"!=\"]\n",
        "#@markdown **Rule:** if map_criteria **is checked**, modify by **criteria value**\n",
        "\n",
        "#@markdown **Rule:** if map_criteria is not checked, modify by item value\n",
        "map_criteria = True #@param {type:\"boolean\"}\n",
        "criteria = 8.29 #@param{type: 'number'}\n",
        "item = \"fail\" #@param{type: 'string'}\n",
        "\n",
        "modify_column = dpdn_mod_column.value\n",
        "\n",
        "\n",
        "if cell_rename == False:\n",
        "  df = df_raw.copy()\n",
        "\n",
        "if map_criteria == True:\n",
        "  value = criteria\n",
        "else:\n",
        "  value = item\n",
        "\n",
        "df = revalue_binary_data_cell_single(df, modify_column, operator, value)\n",
        "cell_rename = True\n",
        "print(datetime.datetime.now())\n",
        "print(\"Done!!\")\n",
        "df.head()\n"
      ],
      "metadata": {
        "colab": {
          "base_uri": "https://localhost:8080/",
          "height": 241
        },
        "id": "oh8Bk36sI5St",
        "outputId": "81cae6a8-8013-4a99-894d-f95208a15714",
        "cellView": "form"
      },
      "execution_count": null,
      "outputs": [
        {
          "output_type": "stream",
          "name": "stdout",
          "text": [
            "2023-04-11 14:02:02.443569\n",
            "Done!!\n"
          ]
        },
        {
          "output_type": "execute_result",
          "data": {
            "text/plain": [
              "   weight(g)        L4        L5         L7         L8         L9       L10  \\\n",
              "0      325.0  5.880397  2.939168  34.962940   4.557035  23.484832  0.089845   \n",
              "1      325.0  5.880397  2.939168  34.962940   4.557035  23.484832  0.089845   \n",
              "2      325.0  5.880397  2.939168  34.962940   4.557035  23.484832  0.089845   \n",
              "3      158.0  5.964124  2.575482  41.897327  10.389364  28.622626  0.040993   \n",
              "4      158.0  5.964124  2.575482  41.897327  10.389364  28.622626  0.040993   \n",
              "\n",
              "         L11       L12       L13        L14   zone     life  ln_life  \n",
              "0   2.486663  2.725964  3.330857  14.628889  zone1  0.01070        1  \n",
              "1   2.486663  2.725964  3.330857  14.628889  zone2  0.00949        1  \n",
              "2   2.486663  2.725964  3.330857  14.628889  zone3  0.00140        1  \n",
              "3  55.461086  2.681858  1.505366  31.960806  zone1  0.00730        1  \n",
              "4  55.461086  2.681858  1.505366  31.960806  zone2  0.00694        1  "
            ],
            "text/html": [
              "\n",
              "  <div id=\"df-6af148de-9891-498e-9270-5eef7e3341c8\">\n",
              "    <div class=\"colab-df-container\">\n",
              "      <div>\n",
              "<style scoped>\n",
              "    .dataframe tbody tr th:only-of-type {\n",
              "        vertical-align: middle;\n",
              "    }\n",
              "\n",
              "    .dataframe tbody tr th {\n",
              "        vertical-align: top;\n",
              "    }\n",
              "\n",
              "    .dataframe thead th {\n",
              "        text-align: right;\n",
              "    }\n",
              "</style>\n",
              "<table border=\"1\" class=\"dataframe\">\n",
              "  <thead>\n",
              "    <tr style=\"text-align: right;\">\n",
              "      <th></th>\n",
              "      <th>weight(g)</th>\n",
              "      <th>L4</th>\n",
              "      <th>L5</th>\n",
              "      <th>L7</th>\n",
              "      <th>L8</th>\n",
              "      <th>L9</th>\n",
              "      <th>L10</th>\n",
              "      <th>L11</th>\n",
              "      <th>L12</th>\n",
              "      <th>L13</th>\n",
              "      <th>L14</th>\n",
              "      <th>zone</th>\n",
              "      <th>life</th>\n",
              "      <th>ln_life</th>\n",
              "    </tr>\n",
              "  </thead>\n",
              "  <tbody>\n",
              "    <tr>\n",
              "      <th>0</th>\n",
              "      <td>325.0</td>\n",
              "      <td>5.880397</td>\n",
              "      <td>2.939168</td>\n",
              "      <td>34.962940</td>\n",
              "      <td>4.557035</td>\n",
              "      <td>23.484832</td>\n",
              "      <td>0.089845</td>\n",
              "      <td>2.486663</td>\n",
              "      <td>2.725964</td>\n",
              "      <td>3.330857</td>\n",
              "      <td>14.628889</td>\n",
              "      <td>zone1</td>\n",
              "      <td>0.01070</td>\n",
              "      <td>1</td>\n",
              "    </tr>\n",
              "    <tr>\n",
              "      <th>1</th>\n",
              "      <td>325.0</td>\n",
              "      <td>5.880397</td>\n",
              "      <td>2.939168</td>\n",
              "      <td>34.962940</td>\n",
              "      <td>4.557035</td>\n",
              "      <td>23.484832</td>\n",
              "      <td>0.089845</td>\n",
              "      <td>2.486663</td>\n",
              "      <td>2.725964</td>\n",
              "      <td>3.330857</td>\n",
              "      <td>14.628889</td>\n",
              "      <td>zone2</td>\n",
              "      <td>0.00949</td>\n",
              "      <td>1</td>\n",
              "    </tr>\n",
              "    <tr>\n",
              "      <th>2</th>\n",
              "      <td>325.0</td>\n",
              "      <td>5.880397</td>\n",
              "      <td>2.939168</td>\n",
              "      <td>34.962940</td>\n",
              "      <td>4.557035</td>\n",
              "      <td>23.484832</td>\n",
              "      <td>0.089845</td>\n",
              "      <td>2.486663</td>\n",
              "      <td>2.725964</td>\n",
              "      <td>3.330857</td>\n",
              "      <td>14.628889</td>\n",
              "      <td>zone3</td>\n",
              "      <td>0.00140</td>\n",
              "      <td>1</td>\n",
              "    </tr>\n",
              "    <tr>\n",
              "      <th>3</th>\n",
              "      <td>158.0</td>\n",
              "      <td>5.964124</td>\n",
              "      <td>2.575482</td>\n",
              "      <td>41.897327</td>\n",
              "      <td>10.389364</td>\n",
              "      <td>28.622626</td>\n",
              "      <td>0.040993</td>\n",
              "      <td>55.461086</td>\n",
              "      <td>2.681858</td>\n",
              "      <td>1.505366</td>\n",
              "      <td>31.960806</td>\n",
              "      <td>zone1</td>\n",
              "      <td>0.00730</td>\n",
              "      <td>1</td>\n",
              "    </tr>\n",
              "    <tr>\n",
              "      <th>4</th>\n",
              "      <td>158.0</td>\n",
              "      <td>5.964124</td>\n",
              "      <td>2.575482</td>\n",
              "      <td>41.897327</td>\n",
              "      <td>10.389364</td>\n",
              "      <td>28.622626</td>\n",
              "      <td>0.040993</td>\n",
              "      <td>55.461086</td>\n",
              "      <td>2.681858</td>\n",
              "      <td>1.505366</td>\n",
              "      <td>31.960806</td>\n",
              "      <td>zone2</td>\n",
              "      <td>0.00694</td>\n",
              "      <td>1</td>\n",
              "    </tr>\n",
              "  </tbody>\n",
              "</table>\n",
              "</div>\n",
              "      <button class=\"colab-df-convert\" onclick=\"convertToInteractive('df-6af148de-9891-498e-9270-5eef7e3341c8')\"\n",
              "              title=\"Convert this dataframe to an interactive table.\"\n",
              "              style=\"display:none;\">\n",
              "        \n",
              "  <svg xmlns=\"http://www.w3.org/2000/svg\" height=\"24px\"viewBox=\"0 0 24 24\"\n",
              "       width=\"24px\">\n",
              "    <path d=\"M0 0h24v24H0V0z\" fill=\"none\"/>\n",
              "    <path d=\"M18.56 5.44l.94 2.06.94-2.06 2.06-.94-2.06-.94-.94-2.06-.94 2.06-2.06.94zm-11 1L8.5 8.5l.94-2.06 2.06-.94-2.06-.94L8.5 2.5l-.94 2.06-2.06.94zm10 10l.94 2.06.94-2.06 2.06-.94-2.06-.94-.94-2.06-.94 2.06-2.06.94z\"/><path d=\"M17.41 7.96l-1.37-1.37c-.4-.4-.92-.59-1.43-.59-.52 0-1.04.2-1.43.59L10.3 9.45l-7.72 7.72c-.78.78-.78 2.05 0 2.83L4 21.41c.39.39.9.59 1.41.59.51 0 1.02-.2 1.41-.59l7.78-7.78 2.81-2.81c.8-.78.8-2.07 0-2.86zM5.41 20L4 18.59l7.72-7.72 1.47 1.35L5.41 20z\"/>\n",
              "  </svg>\n",
              "      </button>\n",
              "      \n",
              "  <style>\n",
              "    .colab-df-container {\n",
              "      display:flex;\n",
              "      flex-wrap:wrap;\n",
              "      gap: 12px;\n",
              "    }\n",
              "\n",
              "    .colab-df-convert {\n",
              "      background-color: #E8F0FE;\n",
              "      border: none;\n",
              "      border-radius: 50%;\n",
              "      cursor: pointer;\n",
              "      display: none;\n",
              "      fill: #1967D2;\n",
              "      height: 32px;\n",
              "      padding: 0 0 0 0;\n",
              "      width: 32px;\n",
              "    }\n",
              "\n",
              "    .colab-df-convert:hover {\n",
              "      background-color: #E2EBFA;\n",
              "      box-shadow: 0px 1px 2px rgba(60, 64, 67, 0.3), 0px 1px 3px 1px rgba(60, 64, 67, 0.15);\n",
              "      fill: #174EA6;\n",
              "    }\n",
              "\n",
              "    [theme=dark] .colab-df-convert {\n",
              "      background-color: #3B4455;\n",
              "      fill: #D2E3FC;\n",
              "    }\n",
              "\n",
              "    [theme=dark] .colab-df-convert:hover {\n",
              "      background-color: #434B5C;\n",
              "      box-shadow: 0px 1px 3px 1px rgba(0, 0, 0, 0.15);\n",
              "      filter: drop-shadow(0px 1px 2px rgba(0, 0, 0, 0.3));\n",
              "      fill: #FFFFFF;\n",
              "    }\n",
              "  </style>\n",
              "\n",
              "      <script>\n",
              "        const buttonEl =\n",
              "          document.querySelector('#df-6af148de-9891-498e-9270-5eef7e3341c8 button.colab-df-convert');\n",
              "        buttonEl.style.display =\n",
              "          google.colab.kernel.accessAllowed ? 'block' : 'none';\n",
              "\n",
              "        async function convertToInteractive(key) {\n",
              "          const element = document.querySelector('#df-6af148de-9891-498e-9270-5eef7e3341c8');\n",
              "          const dataTable =\n",
              "            await google.colab.kernel.invokeFunction('convertToInteractive',\n",
              "                                                     [key], {});\n",
              "          if (!dataTable) return;\n",
              "\n",
              "          const docLinkHtml = 'Like what you see? Visit the ' +\n",
              "            '<a target=\"_blank\" href=https://colab.research.google.com/notebooks/data_table.ipynb>data table notebook</a>'\n",
              "            + ' to learn more about interactive tables.';\n",
              "          element.innerHTML = '';\n",
              "          dataTable['output_type'] = 'display_data';\n",
              "          await google.colab.output.renderOutput(dataTable, element);\n",
              "          const docLink = document.createElement('div');\n",
              "          docLink.innerHTML = docLinkHtml;\n",
              "          element.appendChild(docLink);\n",
              "        }\n",
              "      </script>\n",
              "    </div>\n",
              "  </div>\n",
              "  "
            ]
          },
          "metadata": {},
          "execution_count": 45
        }
      ],
      "id": "oh8Bk36sI5St"
    },
    {
      "cell_type": "code",
      "source": [
        "#@markdown ###**Data Criteria Judge: Single Columns Multiple Level**\n",
        "\n",
        "#@markdown ####**Rule:** {original_01: new_01, original_02: new_02, original_03: new_03}\n",
        "change_item = {\"zone1\": 1,  \"zone2\": 2, \"zone3\": 3}  #@param{type: 'raw'}\n",
        "\n",
        "modify_column = dpdn_mod_column.value\n",
        "\n",
        "\n",
        "if cell_rename == False:\n",
        "  df = df_raw.copy()\n",
        "\n",
        "df = revalue_data_cell_single(df, modify_column, change_item)\n",
        "cell_rename = True\n",
        "print(datetime.datetime.now())\n",
        "print(\"Done!!\")\n",
        "df.head()"
      ],
      "metadata": {
        "colab": {
          "base_uri": "https://localhost:8080/",
          "height": 258
        },
        "cellView": "form",
        "id": "BJ7g9-FcPH7r",
        "outputId": "328a39e2-4fb6-47f1-eaa9-ee09844799e3"
      },
      "execution_count": null,
      "outputs": [
        {
          "output_type": "stream",
          "name": "stdout",
          "text": [
            "zone :  [1 2 3]\n",
            "2023-04-11 14:02:10.621190\n",
            "Done!!\n"
          ]
        },
        {
          "output_type": "execute_result",
          "data": {
            "text/plain": [
              "   weight(g)        L4        L5         L7         L8         L9       L10  \\\n",
              "0      325.0  5.880397  2.939168  34.962940   4.557035  23.484832  0.089845   \n",
              "1      325.0  5.880397  2.939168  34.962940   4.557035  23.484832  0.089845   \n",
              "2      325.0  5.880397  2.939168  34.962940   4.557035  23.484832  0.089845   \n",
              "3      158.0  5.964124  2.575482  41.897327  10.389364  28.622626  0.040993   \n",
              "4      158.0  5.964124  2.575482  41.897327  10.389364  28.622626  0.040993   \n",
              "\n",
              "         L11       L12       L13        L14  zone     life  ln_life  \n",
              "0   2.486663  2.725964  3.330857  14.628889     1  0.01070        1  \n",
              "1   2.486663  2.725964  3.330857  14.628889     2  0.00949        1  \n",
              "2   2.486663  2.725964  3.330857  14.628889     3  0.00140        1  \n",
              "3  55.461086  2.681858  1.505366  31.960806     1  0.00730        1  \n",
              "4  55.461086  2.681858  1.505366  31.960806     2  0.00694        1  "
            ],
            "text/html": [
              "\n",
              "  <div id=\"df-2847d446-8dde-4434-b95c-9a04cb1cb60b\">\n",
              "    <div class=\"colab-df-container\">\n",
              "      <div>\n",
              "<style scoped>\n",
              "    .dataframe tbody tr th:only-of-type {\n",
              "        vertical-align: middle;\n",
              "    }\n",
              "\n",
              "    .dataframe tbody tr th {\n",
              "        vertical-align: top;\n",
              "    }\n",
              "\n",
              "    .dataframe thead th {\n",
              "        text-align: right;\n",
              "    }\n",
              "</style>\n",
              "<table border=\"1\" class=\"dataframe\">\n",
              "  <thead>\n",
              "    <tr style=\"text-align: right;\">\n",
              "      <th></th>\n",
              "      <th>weight(g)</th>\n",
              "      <th>L4</th>\n",
              "      <th>L5</th>\n",
              "      <th>L7</th>\n",
              "      <th>L8</th>\n",
              "      <th>L9</th>\n",
              "      <th>L10</th>\n",
              "      <th>L11</th>\n",
              "      <th>L12</th>\n",
              "      <th>L13</th>\n",
              "      <th>L14</th>\n",
              "      <th>zone</th>\n",
              "      <th>life</th>\n",
              "      <th>ln_life</th>\n",
              "    </tr>\n",
              "  </thead>\n",
              "  <tbody>\n",
              "    <tr>\n",
              "      <th>0</th>\n",
              "      <td>325.0</td>\n",
              "      <td>5.880397</td>\n",
              "      <td>2.939168</td>\n",
              "      <td>34.962940</td>\n",
              "      <td>4.557035</td>\n",
              "      <td>23.484832</td>\n",
              "      <td>0.089845</td>\n",
              "      <td>2.486663</td>\n",
              "      <td>2.725964</td>\n",
              "      <td>3.330857</td>\n",
              "      <td>14.628889</td>\n",
              "      <td>1</td>\n",
              "      <td>0.01070</td>\n",
              "      <td>1</td>\n",
              "    </tr>\n",
              "    <tr>\n",
              "      <th>1</th>\n",
              "      <td>325.0</td>\n",
              "      <td>5.880397</td>\n",
              "      <td>2.939168</td>\n",
              "      <td>34.962940</td>\n",
              "      <td>4.557035</td>\n",
              "      <td>23.484832</td>\n",
              "      <td>0.089845</td>\n",
              "      <td>2.486663</td>\n",
              "      <td>2.725964</td>\n",
              "      <td>3.330857</td>\n",
              "      <td>14.628889</td>\n",
              "      <td>2</td>\n",
              "      <td>0.00949</td>\n",
              "      <td>1</td>\n",
              "    </tr>\n",
              "    <tr>\n",
              "      <th>2</th>\n",
              "      <td>325.0</td>\n",
              "      <td>5.880397</td>\n",
              "      <td>2.939168</td>\n",
              "      <td>34.962940</td>\n",
              "      <td>4.557035</td>\n",
              "      <td>23.484832</td>\n",
              "      <td>0.089845</td>\n",
              "      <td>2.486663</td>\n",
              "      <td>2.725964</td>\n",
              "      <td>3.330857</td>\n",
              "      <td>14.628889</td>\n",
              "      <td>3</td>\n",
              "      <td>0.00140</td>\n",
              "      <td>1</td>\n",
              "    </tr>\n",
              "    <tr>\n",
              "      <th>3</th>\n",
              "      <td>158.0</td>\n",
              "      <td>5.964124</td>\n",
              "      <td>2.575482</td>\n",
              "      <td>41.897327</td>\n",
              "      <td>10.389364</td>\n",
              "      <td>28.622626</td>\n",
              "      <td>0.040993</td>\n",
              "      <td>55.461086</td>\n",
              "      <td>2.681858</td>\n",
              "      <td>1.505366</td>\n",
              "      <td>31.960806</td>\n",
              "      <td>1</td>\n",
              "      <td>0.00730</td>\n",
              "      <td>1</td>\n",
              "    </tr>\n",
              "    <tr>\n",
              "      <th>4</th>\n",
              "      <td>158.0</td>\n",
              "      <td>5.964124</td>\n",
              "      <td>2.575482</td>\n",
              "      <td>41.897327</td>\n",
              "      <td>10.389364</td>\n",
              "      <td>28.622626</td>\n",
              "      <td>0.040993</td>\n",
              "      <td>55.461086</td>\n",
              "      <td>2.681858</td>\n",
              "      <td>1.505366</td>\n",
              "      <td>31.960806</td>\n",
              "      <td>2</td>\n",
              "      <td>0.00694</td>\n",
              "      <td>1</td>\n",
              "    </tr>\n",
              "  </tbody>\n",
              "</table>\n",
              "</div>\n",
              "      <button class=\"colab-df-convert\" onclick=\"convertToInteractive('df-2847d446-8dde-4434-b95c-9a04cb1cb60b')\"\n",
              "              title=\"Convert this dataframe to an interactive table.\"\n",
              "              style=\"display:none;\">\n",
              "        \n",
              "  <svg xmlns=\"http://www.w3.org/2000/svg\" height=\"24px\"viewBox=\"0 0 24 24\"\n",
              "       width=\"24px\">\n",
              "    <path d=\"M0 0h24v24H0V0z\" fill=\"none\"/>\n",
              "    <path d=\"M18.56 5.44l.94 2.06.94-2.06 2.06-.94-2.06-.94-.94-2.06-.94 2.06-2.06.94zm-11 1L8.5 8.5l.94-2.06 2.06-.94-2.06-.94L8.5 2.5l-.94 2.06-2.06.94zm10 10l.94 2.06.94-2.06 2.06-.94-2.06-.94-.94-2.06-.94 2.06-2.06.94z\"/><path d=\"M17.41 7.96l-1.37-1.37c-.4-.4-.92-.59-1.43-.59-.52 0-1.04.2-1.43.59L10.3 9.45l-7.72 7.72c-.78.78-.78 2.05 0 2.83L4 21.41c.39.39.9.59 1.41.59.51 0 1.02-.2 1.41-.59l7.78-7.78 2.81-2.81c.8-.78.8-2.07 0-2.86zM5.41 20L4 18.59l7.72-7.72 1.47 1.35L5.41 20z\"/>\n",
              "  </svg>\n",
              "      </button>\n",
              "      \n",
              "  <style>\n",
              "    .colab-df-container {\n",
              "      display:flex;\n",
              "      flex-wrap:wrap;\n",
              "      gap: 12px;\n",
              "    }\n",
              "\n",
              "    .colab-df-convert {\n",
              "      background-color: #E8F0FE;\n",
              "      border: none;\n",
              "      border-radius: 50%;\n",
              "      cursor: pointer;\n",
              "      display: none;\n",
              "      fill: #1967D2;\n",
              "      height: 32px;\n",
              "      padding: 0 0 0 0;\n",
              "      width: 32px;\n",
              "    }\n",
              "\n",
              "    .colab-df-convert:hover {\n",
              "      background-color: #E2EBFA;\n",
              "      box-shadow: 0px 1px 2px rgba(60, 64, 67, 0.3), 0px 1px 3px 1px rgba(60, 64, 67, 0.15);\n",
              "      fill: #174EA6;\n",
              "    }\n",
              "\n",
              "    [theme=dark] .colab-df-convert {\n",
              "      background-color: #3B4455;\n",
              "      fill: #D2E3FC;\n",
              "    }\n",
              "\n",
              "    [theme=dark] .colab-df-convert:hover {\n",
              "      background-color: #434B5C;\n",
              "      box-shadow: 0px 1px 3px 1px rgba(0, 0, 0, 0.15);\n",
              "      filter: drop-shadow(0px 1px 2px rgba(0, 0, 0, 0.3));\n",
              "      fill: #FFFFFF;\n",
              "    }\n",
              "  </style>\n",
              "\n",
              "      <script>\n",
              "        const buttonEl =\n",
              "          document.querySelector('#df-2847d446-8dde-4434-b95c-9a04cb1cb60b button.colab-df-convert');\n",
              "        buttonEl.style.display =\n",
              "          google.colab.kernel.accessAllowed ? 'block' : 'none';\n",
              "\n",
              "        async function convertToInteractive(key) {\n",
              "          const element = document.querySelector('#df-2847d446-8dde-4434-b95c-9a04cb1cb60b');\n",
              "          const dataTable =\n",
              "            await google.colab.kernel.invokeFunction('convertToInteractive',\n",
              "                                                     [key], {});\n",
              "          if (!dataTable) return;\n",
              "\n",
              "          const docLinkHtml = 'Like what you see? Visit the ' +\n",
              "            '<a target=\"_blank\" href=https://colab.research.google.com/notebooks/data_table.ipynb>data table notebook</a>'\n",
              "            + ' to learn more about interactive tables.';\n",
              "          element.innerHTML = '';\n",
              "          dataTable['output_type'] = 'display_data';\n",
              "          await google.colab.output.renderOutput(dataTable, element);\n",
              "          const docLink = document.createElement('div');\n",
              "          docLink.innerHTML = docLinkHtml;\n",
              "          element.appendChild(docLink);\n",
              "        }\n",
              "      </script>\n",
              "    </div>\n",
              "  </div>\n",
              "  "
            ]
          },
          "metadata": {},
          "execution_count": 46
        }
      ],
      "id": "BJ7g9-FcPH7r"
    },
    {
      "cell_type": "markdown",
      "source": [
        "### Save Modified Data (Optional)"
      ],
      "metadata": {
        "id": "uKo28_p6Eaii"
      },
      "id": "uKo28_p6Eaii"
    },
    {
      "cell_type": "code",
      "source": [
        "#@markdown ###**Save Filter File**\n",
        "filename = 'type3_re_cri4000' #@param{type: 'string'}\n",
        "\n",
        "save_file = filename+\".csv\"\n",
        "download_filter_data = True #@param {type:\"boolean\"}\n",
        "\n",
        "if cell_rename == False:\n",
        "  print(\"No DataFrame Cell Change Value!\")\n",
        "else:\n",
        "  save_csv_file(df, save_file, download_filter_data)\n",
        "# df.to_csv(save_file, encoding=encoding, index=True)\n",
        "\n",
        "print(datetime.datetime.now())\n",
        "print(\"Done!!\")"
      ],
      "metadata": {
        "colab": {
          "base_uri": "https://localhost:8080/",
          "height": 52
        },
        "id": "vdj0j0OIygRU",
        "outputId": "bf084de8-4cf6-4aea-fd6e-fcc0f323ade6",
        "cellView": "form"
      },
      "execution_count": null,
      "outputs": [
        {
          "output_type": "display_data",
          "data": {
            "text/plain": [
              "<IPython.core.display.Javascript object>"
            ],
            "application/javascript": [
              "\n",
              "    async function download(id, filename, size) {\n",
              "      if (!google.colab.kernel.accessAllowed) {\n",
              "        return;\n",
              "      }\n",
              "      const div = document.createElement('div');\n",
              "      const label = document.createElement('label');\n",
              "      label.textContent = `Downloading \"${filename}\": `;\n",
              "      div.appendChild(label);\n",
              "      const progress = document.createElement('progress');\n",
              "      progress.max = size;\n",
              "      div.appendChild(progress);\n",
              "      document.body.appendChild(div);\n",
              "\n",
              "      const buffers = [];\n",
              "      let downloaded = 0;\n",
              "\n",
              "      const channel = await google.colab.kernel.comms.open(id);\n",
              "      // Send a message to notify the kernel that we're ready.\n",
              "      channel.send({})\n",
              "\n",
              "      for await (const message of channel.messages) {\n",
              "        // Send a message to notify the kernel that we're ready.\n",
              "        channel.send({})\n",
              "        if (message.buffers) {\n",
              "          for (const buffer of message.buffers) {\n",
              "            buffers.push(buffer);\n",
              "            downloaded += buffer.byteLength;\n",
              "            progress.value = downloaded;\n",
              "          }\n",
              "        }\n",
              "      }\n",
              "      const blob = new Blob(buffers, {type: 'application/binary'});\n",
              "      const a = document.createElement('a');\n",
              "      a.href = window.URL.createObjectURL(blob);\n",
              "      a.download = filename;\n",
              "      div.appendChild(a);\n",
              "      a.click();\n",
              "      div.remove();\n",
              "    }\n",
              "  "
            ]
          },
          "metadata": {}
        },
        {
          "output_type": "display_data",
          "data": {
            "text/plain": [
              "<IPython.core.display.Javascript object>"
            ],
            "application/javascript": [
              "download(\"download_2055a53d-ef43-42d7-84b4-a4ddb2fb5e5c\", \"type3_re_cri4000.csv\", 246931)"
            ]
          },
          "metadata": {}
        },
        {
          "output_type": "stream",
          "name": "stdout",
          "text": [
            "2023-04-11 14:02:19.995591\n",
            "Done!!\n"
          ]
        }
      ],
      "id": "vdj0j0OIygRU"
    },
    {
      "cell_type": "markdown",
      "source": [
        "## Emulator"
      ],
      "metadata": {
        "id": "aa_q_hZ_lHbP"
      },
      "id": "aa_q_hZ_lHbP"
    },
    {
      "cell_type": "code",
      "execution_count": null,
      "id": "1a6d054f",
      "metadata": {
        "ExecuteTime": {
          "end_time": "2023-03-28T08:46:05.650797Z",
          "start_time": "2023-03-28T08:46:05.646796Z"
        },
        "colab": {
          "base_uri": "https://localhost:8080/"
        },
        "id": "1a6d054f",
        "outputId": "c5b3e99a-7b8a-4a60-a615-d037578984fc"
      },
      "outputs": [
        {
          "output_type": "execute_result",
          "data": {
            "text/plain": [
              "Index(['weight(g)', 'L4', 'L5', 'L7', 'L8', 'L9', 'L10', 'L11', 'L12', 'L13',\n",
              "       'L14', 'zone', 'life', 'ln_life'],\n",
              "      dtype='object')"
            ]
          },
          "metadata": {},
          "execution_count": 48
        }
      ],
      "source": [
        "df.columns"
      ]
    },
    {
      "cell_type": "code",
      "execution_count": null,
      "id": "d767f3a6",
      "metadata": {
        "ExecuteTime": {
          "end_time": "2023-03-28T08:46:17.648860Z",
          "start_time": "2023-03-28T08:46:17.638860Z"
        },
        "id": "d767f3a6"
      },
      "outputs": [],
      "source": [
        "X = df[['weight(g)', 'L4', 'L5', 'L7', 'L8', 'L9', 'L10', 'L11', 'L12', 'L13',\n",
        "       'L14', \"zone\"]]\n",
        "y = df['ln_life']"
      ]
    },
    {
      "cell_type": "code",
      "execution_count": null,
      "id": "4bb285f0",
      "metadata": {
        "ExecuteTime": {
          "end_time": "2023-03-28T08:46:29.122283Z",
          "start_time": "2023-03-28T08:46:29.103284Z"
        },
        "id": "4bb285f0"
      },
      "outputs": [],
      "source": [
        "from sklearn.model_selection import train_test_split\n",
        "X_train, X_test, y_train, y_test = train_test_split(X, y, test_size = 0.1, random_state = 0)"
      ]
    },
    {
      "cell_type": "code",
      "execution_count": null,
      "id": "549a62c2",
      "metadata": {
        "ExecuteTime": {
          "end_time": "2023-03-28T08:46:30.198434Z",
          "start_time": "2023-03-28T08:46:30.183433Z"
        },
        "colab": {
          "base_uri": "https://localhost:8080/"
        },
        "id": "549a62c2",
        "outputId": "df91dc35-2dfe-44e0-c5e0-3a4fcd3bba4c"
      },
      "outputs": [
        {
          "output_type": "execute_result",
          "data": {
            "text/plain": [
              "1674    0\n",
              "6       1\n",
              "459     1\n",
              "840     0\n",
              "799     0\n",
              "       ..\n",
              "1033    0\n",
              "1731    0\n",
              "763     0\n",
              "835     0\n",
              "1653    0\n",
              "Name: ln_life, Length: 1900, dtype: int64"
            ]
          },
          "metadata": {},
          "execution_count": 51
        }
      ],
      "source": [
        "y_train"
      ]
    },
    {
      "cell_type": "code",
      "execution_count": null,
      "id": "fa982a22",
      "metadata": {
        "ExecuteTime": {
          "end_time": "2023-03-28T08:46:34.666379Z",
          "start_time": "2023-03-28T08:46:32.222971Z"
        },
        "colab": {
          "base_uri": "https://localhost:8080/",
          "height": 74
        },
        "id": "fa982a22",
        "outputId": "6d3a4039-755b-477f-9ee2-560e087c4478"
      },
      "outputs": [
        {
          "output_type": "execute_result",
          "data": {
            "text/plain": [
              "LGBMClassifier()"
            ],
            "text/html": [
              "<style>#sk-container-id-2 {color: black;background-color: white;}#sk-container-id-2 pre{padding: 0;}#sk-container-id-2 div.sk-toggleable {background-color: white;}#sk-container-id-2 label.sk-toggleable__label {cursor: pointer;display: block;width: 100%;margin-bottom: 0;padding: 0.3em;box-sizing: border-box;text-align: center;}#sk-container-id-2 label.sk-toggleable__label-arrow:before {content: \"▸\";float: left;margin-right: 0.25em;color: #696969;}#sk-container-id-2 label.sk-toggleable__label-arrow:hover:before {color: black;}#sk-container-id-2 div.sk-estimator:hover label.sk-toggleable__label-arrow:before {color: black;}#sk-container-id-2 div.sk-toggleable__content {max-height: 0;max-width: 0;overflow: hidden;text-align: left;background-color: #f0f8ff;}#sk-container-id-2 div.sk-toggleable__content pre {margin: 0.2em;color: black;border-radius: 0.25em;background-color: #f0f8ff;}#sk-container-id-2 input.sk-toggleable__control:checked~div.sk-toggleable__content {max-height: 200px;max-width: 100%;overflow: auto;}#sk-container-id-2 input.sk-toggleable__control:checked~label.sk-toggleable__label-arrow:before {content: \"▾\";}#sk-container-id-2 div.sk-estimator input.sk-toggleable__control:checked~label.sk-toggleable__label {background-color: #d4ebff;}#sk-container-id-2 div.sk-label input.sk-toggleable__control:checked~label.sk-toggleable__label {background-color: #d4ebff;}#sk-container-id-2 input.sk-hidden--visually {border: 0;clip: rect(1px 1px 1px 1px);clip: rect(1px, 1px, 1px, 1px);height: 1px;margin: -1px;overflow: hidden;padding: 0;position: absolute;width: 1px;}#sk-container-id-2 div.sk-estimator {font-family: monospace;background-color: #f0f8ff;border: 1px dotted black;border-radius: 0.25em;box-sizing: border-box;margin-bottom: 0.5em;}#sk-container-id-2 div.sk-estimator:hover {background-color: #d4ebff;}#sk-container-id-2 div.sk-parallel-item::after {content: \"\";width: 100%;border-bottom: 1px solid gray;flex-grow: 1;}#sk-container-id-2 div.sk-label:hover label.sk-toggleable__label {background-color: #d4ebff;}#sk-container-id-2 div.sk-serial::before {content: \"\";position: absolute;border-left: 1px solid gray;box-sizing: border-box;top: 0;bottom: 0;left: 50%;z-index: 0;}#sk-container-id-2 div.sk-serial {display: flex;flex-direction: column;align-items: center;background-color: white;padding-right: 0.2em;padding-left: 0.2em;position: relative;}#sk-container-id-2 div.sk-item {position: relative;z-index: 1;}#sk-container-id-2 div.sk-parallel {display: flex;align-items: stretch;justify-content: center;background-color: white;position: relative;}#sk-container-id-2 div.sk-item::before, #sk-container-id-2 div.sk-parallel-item::before {content: \"\";position: absolute;border-left: 1px solid gray;box-sizing: border-box;top: 0;bottom: 0;left: 50%;z-index: -1;}#sk-container-id-2 div.sk-parallel-item {display: flex;flex-direction: column;z-index: 1;position: relative;background-color: white;}#sk-container-id-2 div.sk-parallel-item:first-child::after {align-self: flex-end;width: 50%;}#sk-container-id-2 div.sk-parallel-item:last-child::after {align-self: flex-start;width: 50%;}#sk-container-id-2 div.sk-parallel-item:only-child::after {width: 0;}#sk-container-id-2 div.sk-dashed-wrapped {border: 1px dashed gray;margin: 0 0.4em 0.5em 0.4em;box-sizing: border-box;padding-bottom: 0.4em;background-color: white;}#sk-container-id-2 div.sk-label label {font-family: monospace;font-weight: bold;display: inline-block;line-height: 1.2em;}#sk-container-id-2 div.sk-label-container {text-align: center;}#sk-container-id-2 div.sk-container {/* jupyter's `normalize.less` sets `[hidden] { display: none; }` but bootstrap.min.css set `[hidden] { display: none !important; }` so we also need the `!important` here to be able to override the default hidden behavior on the sphinx rendered scikit-learn.org. See: https://github.com/scikit-learn/scikit-learn/issues/21755 */display: inline-block !important;position: relative;}#sk-container-id-2 div.sk-text-repr-fallback {display: none;}</style><div id=\"sk-container-id-2\" class=\"sk-top-container\"><div class=\"sk-text-repr-fallback\"><pre>LGBMClassifier()</pre><b>In a Jupyter environment, please rerun this cell to show the HTML representation or trust the notebook. <br />On GitHub, the HTML representation is unable to render, please try loading this page with nbviewer.org.</b></div><div class=\"sk-container\" hidden><div class=\"sk-item\"><div class=\"sk-estimator sk-toggleable\"><input class=\"sk-toggleable__control sk-hidden--visually\" id=\"sk-estimator-id-2\" type=\"checkbox\" checked><label for=\"sk-estimator-id-2\" class=\"sk-toggleable__label sk-toggleable__label-arrow\">LGBMClassifier</label><div class=\"sk-toggleable__content\"><pre>LGBMClassifier()</pre></div></div></div></div></div>"
            ]
          },
          "metadata": {},
          "execution_count": 52
        }
      ],
      "source": [
        "import lightgbm as lgb\n",
        "clf = lgb.LGBMClassifier()\n",
        "clf.fit(X_train, y_train)"
      ]
    },
    {
      "cell_type": "code",
      "execution_count": null,
      "id": "ba6613ae",
      "metadata": {
        "ExecuteTime": {
          "end_time": "2023-03-28T08:46:35.006393Z",
          "start_time": "2023-03-28T08:46:34.991395Z"
        },
        "id": "ba6613ae"
      },
      "outputs": [],
      "source": [
        "y_pred=clf.predict(X_test)"
      ]
    },
    {
      "cell_type": "code",
      "execution_count": null,
      "id": "cb9b5592",
      "metadata": {
        "ExecuteTime": {
          "end_time": "2023-03-28T08:46:37.677184Z",
          "start_time": "2023-03-28T08:46:37.671183Z"
        },
        "colab": {
          "base_uri": "https://localhost:8080/"
        },
        "id": "cb9b5592",
        "outputId": "055f3279-50cc-4240-98e8-48fa29858d5b"
      },
      "outputs": [
        {
          "output_type": "stream",
          "name": "stdout",
          "text": [
            "LightGBM Model accuracy score: 0.9387\n"
          ]
        }
      ],
      "source": [
        "from sklearn.metrics import accuracy_score\n",
        "accuracy=accuracy_score(y_pred, y_test)\n",
        "print('LightGBM Model accuracy score: {0:0.4f}'.format(accuracy_score(y_test, y_pred)))"
      ]
    },
    {
      "cell_type": "code",
      "execution_count": null,
      "id": "78bfb1e2",
      "metadata": {
        "ExecuteTime": {
          "end_time": "2023-03-28T08:46:39.180995Z",
          "start_time": "2023-03-28T08:46:39.167996Z"
        },
        "id": "78bfb1e2"
      },
      "outputs": [],
      "source": [
        "y_pred_train = clf.predict(X_train)"
      ]
    },
    {
      "cell_type": "code",
      "execution_count": null,
      "id": "d8ef9c10",
      "metadata": {
        "ExecuteTime": {
          "end_time": "2023-03-28T08:46:39.726430Z",
          "start_time": "2023-03-28T08:46:39.711430Z"
        },
        "colab": {
          "base_uri": "https://localhost:8080/"
        },
        "id": "d8ef9c10",
        "outputId": "41a5a6bb-3e2c-4ad3-dcd2-6e25c55a405e"
      },
      "outputs": [
        {
          "output_type": "stream",
          "name": "stdout",
          "text": [
            "Training-set accuracy score: 0.9995\n"
          ]
        }
      ],
      "source": [
        "print('Training-set accuracy score: {0:0.4f}'. format(accuracy_score(y_train, y_pred_train)))"
      ]
    },
    {
      "cell_type": "code",
      "execution_count": null,
      "id": "ae391f59",
      "metadata": {
        "ExecuteTime": {
          "end_time": "2023-03-28T08:46:41.526205Z",
          "start_time": "2023-03-28T08:46:41.504203Z"
        },
        "colab": {
          "base_uri": "https://localhost:8080/"
        },
        "id": "ae391f59",
        "outputId": "aab8a54e-38e1-4179-ca44-b74d84c621ca"
      },
      "outputs": [
        {
          "output_type": "stream",
          "name": "stdout",
          "text": [
            "Training set score: 0.9995\n",
            "Test set score: 0.9387\n"
          ]
        }
      ],
      "source": [
        "# print the scores on training and test set\n",
        "\n",
        "print('Training set score: {:.4f}'.format(clf.score(X_train, y_train)))\n",
        "\n",
        "print('Test set score: {:.4f}'.format(clf.score(X_test, y_test)))"
      ]
    },
    {
      "cell_type": "code",
      "execution_count": null,
      "id": "c04dd7f3",
      "metadata": {
        "ExecuteTime": {
          "end_time": "2023-03-28T08:46:42.399401Z",
          "start_time": "2023-03-28T08:46:42.383399Z"
        },
        "colab": {
          "base_uri": "https://localhost:8080/"
        },
        "id": "c04dd7f3",
        "outputId": "bef9b130-60a6-4485-fcc3-15ae54cd85ba"
      },
      "outputs": [
        {
          "output_type": "stream",
          "name": "stdout",
          "text": [
            "Confusion matrix\n",
            "\n",
            " [[142   5]\n",
            " [  8  57]]\n",
            "\n",
            "True Positives(TP) =  142\n",
            "\n",
            "True Negatives(TN) =  57\n",
            "\n",
            "False Positives(FP) =  5\n",
            "\n",
            "False Negatives(FN) =  8\n"
          ]
        }
      ],
      "source": [
        "from sklearn.metrics import confusion_matrix\n",
        "cm = confusion_matrix(y_test, y_pred)\n",
        "print('Confusion matrix\\n\\n', cm)\n",
        "print('\\nTrue Positives(TP) = ', cm[0,0])\n",
        "print('\\nTrue Negatives(TN) = ', cm[1,1])\n",
        "print('\\nFalse Positives(FP) = ', cm[0,1])\n",
        "print('\\nFalse Negatives(FN) = ', cm[1,0])"
      ]
    },
    {
      "cell_type": "code",
      "execution_count": null,
      "id": "c659fc5d",
      "metadata": {
        "ExecuteTime": {
          "end_time": "2023-03-28T08:46:43.604998Z",
          "start_time": "2023-03-28T08:46:43.591994Z"
        },
        "colab": {
          "base_uri": "https://localhost:8080/"
        },
        "id": "c659fc5d",
        "outputId": "40f9c2b5-6e3d-44de-c289-f5438a3635a8"
      },
      "outputs": [
        {
          "output_type": "execute_result",
          "data": {
            "text/plain": [
              "1832    0\n",
              "1319    0\n",
              "1604    0\n",
              "760     0\n",
              "1180    0\n",
              "       ..\n",
              "726     0\n",
              "443     1\n",
              "2082    0\n",
              "1150    0\n",
              "1745    0\n",
              "Name: ln_life, Length: 212, dtype: int64"
            ]
          },
          "metadata": {},
          "execution_count": 59
        }
      ],
      "source": [
        "y_test"
      ]
    },
    {
      "cell_type": "code",
      "execution_count": null,
      "id": "248cd7d5",
      "metadata": {
        "ExecuteTime": {
          "end_time": "2023-03-28T08:46:44.573590Z",
          "start_time": "2023-03-28T08:46:44.567588Z"
        },
        "colab": {
          "base_uri": "https://localhost:8080/"
        },
        "id": "248cd7d5",
        "outputId": "f8117f4b-7882-4b5c-fc79-a1bf54a043cd"
      },
      "outputs": [
        {
          "output_type": "execute_result",
          "data": {
            "text/plain": [
              "array([0, 0, 0, 0, 0, 0, 0, 0, 1, 1, 1, 1, 0, 0, 0, 0, 0, 1, 0, 0, 0, 1,\n",
              "       1, 0, 0, 1, 1, 0, 0, 0, 0, 0, 0, 0, 0, 0, 0, 0, 0, 0, 0, 1, 0, 0,\n",
              "       1, 0, 0, 0, 0, 0, 0, 0, 0, 0, 1, 1, 1, 0, 1, 1, 1, 0, 0, 0, 0, 0,\n",
              "       0, 1, 1, 0, 0, 1, 0, 0, 0, 0, 0, 0, 1, 0, 0, 0, 0, 0, 0, 0, 0, 0,\n",
              "       0, 0, 0, 1, 0, 0, 0, 0, 0, 0, 1, 0, 1, 0, 0, 0, 0, 0, 0, 0, 0, 1,\n",
              "       0, 0, 1, 0, 1, 0, 0, 1, 0, 0, 0, 1, 0, 0, 0, 0, 1, 0, 0, 0, 0, 1,\n",
              "       0, 0, 1, 0, 1, 1, 0, 1, 1, 1, 0, 0, 1, 0, 1, 0, 0, 0, 1, 1, 1, 0,\n",
              "       0, 0, 0, 0, 0, 1, 1, 0, 0, 0, 0, 0, 1, 0, 0, 1, 1, 0, 0, 0, 0, 0,\n",
              "       1, 0, 1, 0, 1, 0, 1, 1, 0, 0, 0, 0, 0, 1, 1, 0, 0, 0, 1, 1, 1, 0,\n",
              "       0, 0, 1, 1, 1, 0, 1, 0, 0, 0, 1, 0, 0, 0])"
            ]
          },
          "metadata": {},
          "execution_count": 60
        }
      ],
      "source": [
        "y_pred"
      ]
    },
    {
      "cell_type": "code",
      "source": [
        "import joblib\n",
        "\n",
        "filename = 'lightgbm_latch_type3_Y230411' #@param{type: 'string'}\n",
        "\n",
        "save_file = filename+\".emu\"\n",
        "download_model = True #@param {type:\"boolean\"}\n",
        "joblib.dump(clf, save_file)\n",
        "\n",
        "if download_model == True:\n",
        "  files.download(save_file)\n",
        "\n",
        "print(datetime.datetime.now())\n",
        "print(\"Done!!\")"
      ],
      "metadata": {
        "colab": {
          "base_uri": "https://localhost:8080/",
          "height": 52
        },
        "id": "9lgsJgrboyQm",
        "outputId": "590e3c12-dd1a-4934-ee39-98da01c64d6a"
      },
      "id": "9lgsJgrboyQm",
      "execution_count": null,
      "outputs": [
        {
          "output_type": "display_data",
          "data": {
            "text/plain": [
              "<IPython.core.display.Javascript object>"
            ],
            "application/javascript": [
              "\n",
              "    async function download(id, filename, size) {\n",
              "      if (!google.colab.kernel.accessAllowed) {\n",
              "        return;\n",
              "      }\n",
              "      const div = document.createElement('div');\n",
              "      const label = document.createElement('label');\n",
              "      label.textContent = `Downloading \"${filename}\": `;\n",
              "      div.appendChild(label);\n",
              "      const progress = document.createElement('progress');\n",
              "      progress.max = size;\n",
              "      div.appendChild(progress);\n",
              "      document.body.appendChild(div);\n",
              "\n",
              "      const buffers = [];\n",
              "      let downloaded = 0;\n",
              "\n",
              "      const channel = await google.colab.kernel.comms.open(id);\n",
              "      // Send a message to notify the kernel that we're ready.\n",
              "      channel.send({})\n",
              "\n",
              "      for await (const message of channel.messages) {\n",
              "        // Send a message to notify the kernel that we're ready.\n",
              "        channel.send({})\n",
              "        if (message.buffers) {\n",
              "          for (const buffer of message.buffers) {\n",
              "            buffers.push(buffer);\n",
              "            downloaded += buffer.byteLength;\n",
              "            progress.value = downloaded;\n",
              "          }\n",
              "        }\n",
              "      }\n",
              "      const blob = new Blob(buffers, {type: 'application/binary'});\n",
              "      const a = document.createElement('a');\n",
              "      a.href = window.URL.createObjectURL(blob);\n",
              "      a.download = filename;\n",
              "      div.appendChild(a);\n",
              "      a.click();\n",
              "      div.remove();\n",
              "    }\n",
              "  "
            ]
          },
          "metadata": {}
        },
        {
          "output_type": "display_data",
          "data": {
            "text/plain": [
              "<IPython.core.display.Javascript object>"
            ],
            "application/javascript": [
              "download(\"download_d8afe83f-e69f-4caa-866e-7edb357915e9\", \"lightgbm_latch_type3_Y230411.emu\", 341053)"
            ]
          },
          "metadata": {}
        },
        {
          "output_type": "stream",
          "name": "stdout",
          "text": [
            "2023-04-11 14:07:23.879319\n",
            "Done!!\n"
          ]
        }
      ]
    },
    {
      "cell_type": "code",
      "source": [
        "X_train, X_test, y_train, y_test\n",
        "\n",
        "X_train.to_csv(\"x_train_data_Y230411.csv\", index=False)\n",
        "X_test.to_csv(\"x_test_data_Y230411.csv\", index=False)\n",
        "y_train.to_csv(\"y_train_data_Y230411.csv\", index=False)\n",
        "y_test.to_csv(\"y_test_data_Y230411.csv\", index=False)\n",
        "# df_test_save.to_csv(\"test_data.csv\", index=False)\n",
        "files.download('x_train_data_Y230411.csv') \n",
        "files.download('x_test_data_Y230411.csv') \n",
        "files.download('y_train_data_Y230411.csv') \n",
        "files.download('y_test_data_Y230411.csv') "
      ],
      "metadata": {
        "colab": {
          "base_uri": "https://localhost:8080/",
          "height": 17
        },
        "id": "qVsAj60kpfic",
        "outputId": "e4da3283-4909-4d40-aaf1-979f76c4a4ec"
      },
      "id": "qVsAj60kpfic",
      "execution_count": null,
      "outputs": [
        {
          "output_type": "display_data",
          "data": {
            "text/plain": [
              "<IPython.core.display.Javascript object>"
            ],
            "application/javascript": [
              "\n",
              "    async function download(id, filename, size) {\n",
              "      if (!google.colab.kernel.accessAllowed) {\n",
              "        return;\n",
              "      }\n",
              "      const div = document.createElement('div');\n",
              "      const label = document.createElement('label');\n",
              "      label.textContent = `Downloading \"${filename}\": `;\n",
              "      div.appendChild(label);\n",
              "      const progress = document.createElement('progress');\n",
              "      progress.max = size;\n",
              "      div.appendChild(progress);\n",
              "      document.body.appendChild(div);\n",
              "\n",
              "      const buffers = [];\n",
              "      let downloaded = 0;\n",
              "\n",
              "      const channel = await google.colab.kernel.comms.open(id);\n",
              "      // Send a message to notify the kernel that we're ready.\n",
              "      channel.send({})\n",
              "\n",
              "      for await (const message of channel.messages) {\n",
              "        // Send a message to notify the kernel that we're ready.\n",
              "        channel.send({})\n",
              "        if (message.buffers) {\n",
              "          for (const buffer of message.buffers) {\n",
              "            buffers.push(buffer);\n",
              "            downloaded += buffer.byteLength;\n",
              "            progress.value = downloaded;\n",
              "          }\n",
              "        }\n",
              "      }\n",
              "      const blob = new Blob(buffers, {type: 'application/binary'});\n",
              "      const a = document.createElement('a');\n",
              "      a.href = window.URL.createObjectURL(blob);\n",
              "      a.download = filename;\n",
              "      div.appendChild(a);\n",
              "      a.click();\n",
              "      div.remove();\n",
              "    }\n",
              "  "
            ]
          },
          "metadata": {}
        },
        {
          "output_type": "display_data",
          "data": {
            "text/plain": [
              "<IPython.core.display.Javascript object>"
            ],
            "application/javascript": [
              "download(\"download_4298aa85-688b-422c-954c-8753fd9b9be4\", \"x_train_data_Y230411.csv\", 205120)"
            ]
          },
          "metadata": {}
        },
        {
          "output_type": "display_data",
          "data": {
            "text/plain": [
              "<IPython.core.display.Javascript object>"
            ],
            "application/javascript": [
              "\n",
              "    async function download(id, filename, size) {\n",
              "      if (!google.colab.kernel.accessAllowed) {\n",
              "        return;\n",
              "      }\n",
              "      const div = document.createElement('div');\n",
              "      const label = document.createElement('label');\n",
              "      label.textContent = `Downloading \"${filename}\": `;\n",
              "      div.appendChild(label);\n",
              "      const progress = document.createElement('progress');\n",
              "      progress.max = size;\n",
              "      div.appendChild(progress);\n",
              "      document.body.appendChild(div);\n",
              "\n",
              "      const buffers = [];\n",
              "      let downloaded = 0;\n",
              "\n",
              "      const channel = await google.colab.kernel.comms.open(id);\n",
              "      // Send a message to notify the kernel that we're ready.\n",
              "      channel.send({})\n",
              "\n",
              "      for await (const message of channel.messages) {\n",
              "        // Send a message to notify the kernel that we're ready.\n",
              "        channel.send({})\n",
              "        if (message.buffers) {\n",
              "          for (const buffer of message.buffers) {\n",
              "            buffers.push(buffer);\n",
              "            downloaded += buffer.byteLength;\n",
              "            progress.value = downloaded;\n",
              "          }\n",
              "        }\n",
              "      }\n",
              "      const blob = new Blob(buffers, {type: 'application/binary'});\n",
              "      const a = document.createElement('a');\n",
              "      a.href = window.URL.createObjectURL(blob);\n",
              "      a.download = filename;\n",
              "      div.appendChild(a);\n",
              "      a.click();\n",
              "      div.remove();\n",
              "    }\n",
              "  "
            ]
          },
          "metadata": {}
        },
        {
          "output_type": "display_data",
          "data": {
            "text/plain": [
              "<IPython.core.display.Javascript object>"
            ],
            "application/javascript": [
              "download(\"download_24415dba-d409-4061-849a-272b2cef7b69\", \"x_test_data_Y230411.csv\", 22956)"
            ]
          },
          "metadata": {}
        },
        {
          "output_type": "display_data",
          "data": {
            "text/plain": [
              "<IPython.core.display.Javascript object>"
            ],
            "application/javascript": [
              "\n",
              "    async function download(id, filename, size) {\n",
              "      if (!google.colab.kernel.accessAllowed) {\n",
              "        return;\n",
              "      }\n",
              "      const div = document.createElement('div');\n",
              "      const label = document.createElement('label');\n",
              "      label.textContent = `Downloading \"${filename}\": `;\n",
              "      div.appendChild(label);\n",
              "      const progress = document.createElement('progress');\n",
              "      progress.max = size;\n",
              "      div.appendChild(progress);\n",
              "      document.body.appendChild(div);\n",
              "\n",
              "      const buffers = [];\n",
              "      let downloaded = 0;\n",
              "\n",
              "      const channel = await google.colab.kernel.comms.open(id);\n",
              "      // Send a message to notify the kernel that we're ready.\n",
              "      channel.send({})\n",
              "\n",
              "      for await (const message of channel.messages) {\n",
              "        // Send a message to notify the kernel that we're ready.\n",
              "        channel.send({})\n",
              "        if (message.buffers) {\n",
              "          for (const buffer of message.buffers) {\n",
              "            buffers.push(buffer);\n",
              "            downloaded += buffer.byteLength;\n",
              "            progress.value = downloaded;\n",
              "          }\n",
              "        }\n",
              "      }\n",
              "      const blob = new Blob(buffers, {type: 'application/binary'});\n",
              "      const a = document.createElement('a');\n",
              "      a.href = window.URL.createObjectURL(blob);\n",
              "      a.download = filename;\n",
              "      div.appendChild(a);\n",
              "      a.click();\n",
              "      div.remove();\n",
              "    }\n",
              "  "
            ]
          },
          "metadata": {}
        },
        {
          "output_type": "display_data",
          "data": {
            "text/plain": [
              "<IPython.core.display.Javascript object>"
            ],
            "application/javascript": [
              "download(\"download_bebe6b2b-9651-40e8-9765-0c4e58f01266\", \"y_train_data_Y230411.csv\", 3808)"
            ]
          },
          "metadata": {}
        },
        {
          "output_type": "display_data",
          "data": {
            "text/plain": [
              "<IPython.core.display.Javascript object>"
            ],
            "application/javascript": [
              "\n",
              "    async function download(id, filename, size) {\n",
              "      if (!google.colab.kernel.accessAllowed) {\n",
              "        return;\n",
              "      }\n",
              "      const div = document.createElement('div');\n",
              "      const label = document.createElement('label');\n",
              "      label.textContent = `Downloading \"${filename}\": `;\n",
              "      div.appendChild(label);\n",
              "      const progress = document.createElement('progress');\n",
              "      progress.max = size;\n",
              "      div.appendChild(progress);\n",
              "      document.body.appendChild(div);\n",
              "\n",
              "      const buffers = [];\n",
              "      let downloaded = 0;\n",
              "\n",
              "      const channel = await google.colab.kernel.comms.open(id);\n",
              "      // Send a message to notify the kernel that we're ready.\n",
              "      channel.send({})\n",
              "\n",
              "      for await (const message of channel.messages) {\n",
              "        // Send a message to notify the kernel that we're ready.\n",
              "        channel.send({})\n",
              "        if (message.buffers) {\n",
              "          for (const buffer of message.buffers) {\n",
              "            buffers.push(buffer);\n",
              "            downloaded += buffer.byteLength;\n",
              "            progress.value = downloaded;\n",
              "          }\n",
              "        }\n",
              "      }\n",
              "      const blob = new Blob(buffers, {type: 'application/binary'});\n",
              "      const a = document.createElement('a');\n",
              "      a.href = window.URL.createObjectURL(blob);\n",
              "      a.download = filename;\n",
              "      div.appendChild(a);\n",
              "      a.click();\n",
              "      div.remove();\n",
              "    }\n",
              "  "
            ]
          },
          "metadata": {}
        },
        {
          "output_type": "display_data",
          "data": {
            "text/plain": [
              "<IPython.core.display.Javascript object>"
            ],
            "application/javascript": [
              "download(\"download_de2b3bad-b9c1-42dc-9801-e985ab468087\", \"y_test_data_Y230411.csv\", 432)"
            ]
          },
          "metadata": {}
        }
      ]
    },
    {
      "cell_type": "code",
      "source": [
        "y_pre_train = pd.DataFrame(y_pred_train)\n",
        "y_pre_test = pd.DataFrame(y_pred)\n",
        "y_pre_train.to_csv(\"y_pred_train_Y230411.csv\", index=False)\n",
        "y_pre_test.to_csv(\"y_pred_test_Y230411.csv\", index=False)\n",
        "files.download('y_pred_train_Y230411.csv') \n",
        "files.download('y_pred_test_Y230411.csv') "
      ],
      "metadata": {
        "colab": {
          "base_uri": "https://localhost:8080/",
          "height": 17
        },
        "id": "9cjJm97rtO1l",
        "outputId": "2a2b2c3f-04f0-4502-d55c-6c7269ec6e34"
      },
      "id": "9cjJm97rtO1l",
      "execution_count": null,
      "outputs": [
        {
          "output_type": "display_data",
          "data": {
            "text/plain": [
              "<IPython.core.display.Javascript object>"
            ],
            "application/javascript": [
              "\n",
              "    async function download(id, filename, size) {\n",
              "      if (!google.colab.kernel.accessAllowed) {\n",
              "        return;\n",
              "      }\n",
              "      const div = document.createElement('div');\n",
              "      const label = document.createElement('label');\n",
              "      label.textContent = `Downloading \"${filename}\": `;\n",
              "      div.appendChild(label);\n",
              "      const progress = document.createElement('progress');\n",
              "      progress.max = size;\n",
              "      div.appendChild(progress);\n",
              "      document.body.appendChild(div);\n",
              "\n",
              "      const buffers = [];\n",
              "      let downloaded = 0;\n",
              "\n",
              "      const channel = await google.colab.kernel.comms.open(id);\n",
              "      // Send a message to notify the kernel that we're ready.\n",
              "      channel.send({})\n",
              "\n",
              "      for await (const message of channel.messages) {\n",
              "        // Send a message to notify the kernel that we're ready.\n",
              "        channel.send({})\n",
              "        if (message.buffers) {\n",
              "          for (const buffer of message.buffers) {\n",
              "            buffers.push(buffer);\n",
              "            downloaded += buffer.byteLength;\n",
              "            progress.value = downloaded;\n",
              "          }\n",
              "        }\n",
              "      }\n",
              "      const blob = new Blob(buffers, {type: 'application/binary'});\n",
              "      const a = document.createElement('a');\n",
              "      a.href = window.URL.createObjectURL(blob);\n",
              "      a.download = filename;\n",
              "      div.appendChild(a);\n",
              "      a.click();\n",
              "      div.remove();\n",
              "    }\n",
              "  "
            ]
          },
          "metadata": {}
        },
        {
          "output_type": "display_data",
          "data": {
            "text/plain": [
              "<IPython.core.display.Javascript object>"
            ],
            "application/javascript": [
              "download(\"download_e136ea80-b48a-4588-b152-ea4cd030f9cd\", \"y_pred_train_Y230411.csv\", 3802)"
            ]
          },
          "metadata": {}
        },
        {
          "output_type": "display_data",
          "data": {
            "text/plain": [
              "<IPython.core.display.Javascript object>"
            ],
            "application/javascript": [
              "\n",
              "    async function download(id, filename, size) {\n",
              "      if (!google.colab.kernel.accessAllowed) {\n",
              "        return;\n",
              "      }\n",
              "      const div = document.createElement('div');\n",
              "      const label = document.createElement('label');\n",
              "      label.textContent = `Downloading \"${filename}\": `;\n",
              "      div.appendChild(label);\n",
              "      const progress = document.createElement('progress');\n",
              "      progress.max = size;\n",
              "      div.appendChild(progress);\n",
              "      document.body.appendChild(div);\n",
              "\n",
              "      const buffers = [];\n",
              "      let downloaded = 0;\n",
              "\n",
              "      const channel = await google.colab.kernel.comms.open(id);\n",
              "      // Send a message to notify the kernel that we're ready.\n",
              "      channel.send({})\n",
              "\n",
              "      for await (const message of channel.messages) {\n",
              "        // Send a message to notify the kernel that we're ready.\n",
              "        channel.send({})\n",
              "        if (message.buffers) {\n",
              "          for (const buffer of message.buffers) {\n",
              "            buffers.push(buffer);\n",
              "            downloaded += buffer.byteLength;\n",
              "            progress.value = downloaded;\n",
              "          }\n",
              "        }\n",
              "      }\n",
              "      const blob = new Blob(buffers, {type: 'application/binary'});\n",
              "      const a = document.createElement('a');\n",
              "      a.href = window.URL.createObjectURL(blob);\n",
              "      a.download = filename;\n",
              "      div.appendChild(a);\n",
              "      a.click();\n",
              "      div.remove();\n",
              "    }\n",
              "  "
            ]
          },
          "metadata": {}
        },
        {
          "output_type": "display_data",
          "data": {
            "text/plain": [
              "<IPython.core.display.Javascript object>"
            ],
            "application/javascript": [
              "download(\"download_f9fbab43-fedc-425d-8238-be83dd7757ff\", \"y_pred_test_Y230411.csv\", 426)"
            ]
          },
          "metadata": {}
        }
      ]
    },
    {
      "cell_type": "code",
      "source": [
        "x_realcase = pd.read_csv(\"Type3_RE_roll-out.csv\")"
      ],
      "metadata": {
        "id": "DA5qsTAjqiuR"
      },
      "id": "DA5qsTAjqiuR",
      "execution_count": null,
      "outputs": []
    },
    {
      "cell_type": "code",
      "source": [
        "x_realcase"
      ],
      "metadata": {
        "colab": {
          "base_uri": "https://localhost:8080/",
          "height": 425
        },
        "id": "az4Yp3YUqwdY",
        "outputId": "8845760b-5fd3-49d9-ebe8-2fc904f83c71"
      },
      "id": "az4Yp3YUqwdY",
      "execution_count": null,
      "outputs": [
        {
          "output_type": "execute_result",
          "data": {
            "text/plain": [
              "    weight(g)    L4    L5     L7     L8     L9   L10    L11    L12   L13  \\\n",
              "0          11  2.44  1.70  12.12  12.12  22.04  0.31  20.10   7.32  1.88   \n",
              "1          19  2.46  1.82  12.05  12.05  21.63  0.30  20.48   7.76  2.06   \n",
              "2          22  2.85  1.80  10.06  10.06  22.86  0.30  22.16  29.20  2.00   \n",
              "3         480  2.80  0.90  12.50  10.70  15.11  0.00  18.19   3.45  2.00   \n",
              "4          11  2.44  1.70  12.12  12.12  22.04  0.31  20.10   7.32  1.88   \n",
              "5          19  2.46  1.82  12.05  12.05  21.63  0.30  20.48   7.76  2.06   \n",
              "6          22  2.85  1.80  10.06  10.06  22.86  0.30  22.16  29.20  2.00   \n",
              "7         480  2.80  0.90  12.50  10.70  15.11  0.00  18.19   3.45  2.00   \n",
              "8          11  2.44  1.70  12.12  12.12  22.04  0.31  20.10   7.32  1.88   \n",
              "9          19  2.46  1.82  12.05  12.05  21.63  0.30  20.48   7.76  2.06   \n",
              "10         22  2.85  1.80  10.06  10.06  22.86  0.30  22.16  29.20  2.00   \n",
              "11        480  2.80  0.90  12.50  10.70  15.11  0.00  18.19   3.45  2.00   \n",
              "\n",
              "      L14  zone  \n",
              "0    8.60     1  \n",
              "1   23.86     1  \n",
              "2   12.04     1  \n",
              "3    3.75     1  \n",
              "4    8.60     2  \n",
              "5   23.86     2  \n",
              "6   12.04     2  \n",
              "7    3.75     2  \n",
              "8    8.60     3  \n",
              "9   23.86     3  \n",
              "10  12.04     3  \n",
              "11   3.75     3  "
            ],
            "text/html": [
              "\n",
              "  <div id=\"df-cf30d338-4670-48ef-a3a3-de81b1720acf\">\n",
              "    <div class=\"colab-df-container\">\n",
              "      <div>\n",
              "<style scoped>\n",
              "    .dataframe tbody tr th:only-of-type {\n",
              "        vertical-align: middle;\n",
              "    }\n",
              "\n",
              "    .dataframe tbody tr th {\n",
              "        vertical-align: top;\n",
              "    }\n",
              "\n",
              "    .dataframe thead th {\n",
              "        text-align: right;\n",
              "    }\n",
              "</style>\n",
              "<table border=\"1\" class=\"dataframe\">\n",
              "  <thead>\n",
              "    <tr style=\"text-align: right;\">\n",
              "      <th></th>\n",
              "      <th>weight(g)</th>\n",
              "      <th>L4</th>\n",
              "      <th>L5</th>\n",
              "      <th>L7</th>\n",
              "      <th>L8</th>\n",
              "      <th>L9</th>\n",
              "      <th>L10</th>\n",
              "      <th>L11</th>\n",
              "      <th>L12</th>\n",
              "      <th>L13</th>\n",
              "      <th>L14</th>\n",
              "      <th>zone</th>\n",
              "    </tr>\n",
              "  </thead>\n",
              "  <tbody>\n",
              "    <tr>\n",
              "      <th>0</th>\n",
              "      <td>11</td>\n",
              "      <td>2.44</td>\n",
              "      <td>1.70</td>\n",
              "      <td>12.12</td>\n",
              "      <td>12.12</td>\n",
              "      <td>22.04</td>\n",
              "      <td>0.31</td>\n",
              "      <td>20.10</td>\n",
              "      <td>7.32</td>\n",
              "      <td>1.88</td>\n",
              "      <td>8.60</td>\n",
              "      <td>1</td>\n",
              "    </tr>\n",
              "    <tr>\n",
              "      <th>1</th>\n",
              "      <td>19</td>\n",
              "      <td>2.46</td>\n",
              "      <td>1.82</td>\n",
              "      <td>12.05</td>\n",
              "      <td>12.05</td>\n",
              "      <td>21.63</td>\n",
              "      <td>0.30</td>\n",
              "      <td>20.48</td>\n",
              "      <td>7.76</td>\n",
              "      <td>2.06</td>\n",
              "      <td>23.86</td>\n",
              "      <td>1</td>\n",
              "    </tr>\n",
              "    <tr>\n",
              "      <th>2</th>\n",
              "      <td>22</td>\n",
              "      <td>2.85</td>\n",
              "      <td>1.80</td>\n",
              "      <td>10.06</td>\n",
              "      <td>10.06</td>\n",
              "      <td>22.86</td>\n",
              "      <td>0.30</td>\n",
              "      <td>22.16</td>\n",
              "      <td>29.20</td>\n",
              "      <td>2.00</td>\n",
              "      <td>12.04</td>\n",
              "      <td>1</td>\n",
              "    </tr>\n",
              "    <tr>\n",
              "      <th>3</th>\n",
              "      <td>480</td>\n",
              "      <td>2.80</td>\n",
              "      <td>0.90</td>\n",
              "      <td>12.50</td>\n",
              "      <td>10.70</td>\n",
              "      <td>15.11</td>\n",
              "      <td>0.00</td>\n",
              "      <td>18.19</td>\n",
              "      <td>3.45</td>\n",
              "      <td>2.00</td>\n",
              "      <td>3.75</td>\n",
              "      <td>1</td>\n",
              "    </tr>\n",
              "    <tr>\n",
              "      <th>4</th>\n",
              "      <td>11</td>\n",
              "      <td>2.44</td>\n",
              "      <td>1.70</td>\n",
              "      <td>12.12</td>\n",
              "      <td>12.12</td>\n",
              "      <td>22.04</td>\n",
              "      <td>0.31</td>\n",
              "      <td>20.10</td>\n",
              "      <td>7.32</td>\n",
              "      <td>1.88</td>\n",
              "      <td>8.60</td>\n",
              "      <td>2</td>\n",
              "    </tr>\n",
              "    <tr>\n",
              "      <th>5</th>\n",
              "      <td>19</td>\n",
              "      <td>2.46</td>\n",
              "      <td>1.82</td>\n",
              "      <td>12.05</td>\n",
              "      <td>12.05</td>\n",
              "      <td>21.63</td>\n",
              "      <td>0.30</td>\n",
              "      <td>20.48</td>\n",
              "      <td>7.76</td>\n",
              "      <td>2.06</td>\n",
              "      <td>23.86</td>\n",
              "      <td>2</td>\n",
              "    </tr>\n",
              "    <tr>\n",
              "      <th>6</th>\n",
              "      <td>22</td>\n",
              "      <td>2.85</td>\n",
              "      <td>1.80</td>\n",
              "      <td>10.06</td>\n",
              "      <td>10.06</td>\n",
              "      <td>22.86</td>\n",
              "      <td>0.30</td>\n",
              "      <td>22.16</td>\n",
              "      <td>29.20</td>\n",
              "      <td>2.00</td>\n",
              "      <td>12.04</td>\n",
              "      <td>2</td>\n",
              "    </tr>\n",
              "    <tr>\n",
              "      <th>7</th>\n",
              "      <td>480</td>\n",
              "      <td>2.80</td>\n",
              "      <td>0.90</td>\n",
              "      <td>12.50</td>\n",
              "      <td>10.70</td>\n",
              "      <td>15.11</td>\n",
              "      <td>0.00</td>\n",
              "      <td>18.19</td>\n",
              "      <td>3.45</td>\n",
              "      <td>2.00</td>\n",
              "      <td>3.75</td>\n",
              "      <td>2</td>\n",
              "    </tr>\n",
              "    <tr>\n",
              "      <th>8</th>\n",
              "      <td>11</td>\n",
              "      <td>2.44</td>\n",
              "      <td>1.70</td>\n",
              "      <td>12.12</td>\n",
              "      <td>12.12</td>\n",
              "      <td>22.04</td>\n",
              "      <td>0.31</td>\n",
              "      <td>20.10</td>\n",
              "      <td>7.32</td>\n",
              "      <td>1.88</td>\n",
              "      <td>8.60</td>\n",
              "      <td>3</td>\n",
              "    </tr>\n",
              "    <tr>\n",
              "      <th>9</th>\n",
              "      <td>19</td>\n",
              "      <td>2.46</td>\n",
              "      <td>1.82</td>\n",
              "      <td>12.05</td>\n",
              "      <td>12.05</td>\n",
              "      <td>21.63</td>\n",
              "      <td>0.30</td>\n",
              "      <td>20.48</td>\n",
              "      <td>7.76</td>\n",
              "      <td>2.06</td>\n",
              "      <td>23.86</td>\n",
              "      <td>3</td>\n",
              "    </tr>\n",
              "    <tr>\n",
              "      <th>10</th>\n",
              "      <td>22</td>\n",
              "      <td>2.85</td>\n",
              "      <td>1.80</td>\n",
              "      <td>10.06</td>\n",
              "      <td>10.06</td>\n",
              "      <td>22.86</td>\n",
              "      <td>0.30</td>\n",
              "      <td>22.16</td>\n",
              "      <td>29.20</td>\n",
              "      <td>2.00</td>\n",
              "      <td>12.04</td>\n",
              "      <td>3</td>\n",
              "    </tr>\n",
              "    <tr>\n",
              "      <th>11</th>\n",
              "      <td>480</td>\n",
              "      <td>2.80</td>\n",
              "      <td>0.90</td>\n",
              "      <td>12.50</td>\n",
              "      <td>10.70</td>\n",
              "      <td>15.11</td>\n",
              "      <td>0.00</td>\n",
              "      <td>18.19</td>\n",
              "      <td>3.45</td>\n",
              "      <td>2.00</td>\n",
              "      <td>3.75</td>\n",
              "      <td>3</td>\n",
              "    </tr>\n",
              "  </tbody>\n",
              "</table>\n",
              "</div>\n",
              "      <button class=\"colab-df-convert\" onclick=\"convertToInteractive('df-cf30d338-4670-48ef-a3a3-de81b1720acf')\"\n",
              "              title=\"Convert this dataframe to an interactive table.\"\n",
              "              style=\"display:none;\">\n",
              "        \n",
              "  <svg xmlns=\"http://www.w3.org/2000/svg\" height=\"24px\"viewBox=\"0 0 24 24\"\n",
              "       width=\"24px\">\n",
              "    <path d=\"M0 0h24v24H0V0z\" fill=\"none\"/>\n",
              "    <path d=\"M18.56 5.44l.94 2.06.94-2.06 2.06-.94-2.06-.94-.94-2.06-.94 2.06-2.06.94zm-11 1L8.5 8.5l.94-2.06 2.06-.94-2.06-.94L8.5 2.5l-.94 2.06-2.06.94zm10 10l.94 2.06.94-2.06 2.06-.94-2.06-.94-.94-2.06-.94 2.06-2.06.94z\"/><path d=\"M17.41 7.96l-1.37-1.37c-.4-.4-.92-.59-1.43-.59-.52 0-1.04.2-1.43.59L10.3 9.45l-7.72 7.72c-.78.78-.78 2.05 0 2.83L4 21.41c.39.39.9.59 1.41.59.51 0 1.02-.2 1.41-.59l7.78-7.78 2.81-2.81c.8-.78.8-2.07 0-2.86zM5.41 20L4 18.59l7.72-7.72 1.47 1.35L5.41 20z\"/>\n",
              "  </svg>\n",
              "      </button>\n",
              "      \n",
              "  <style>\n",
              "    .colab-df-container {\n",
              "      display:flex;\n",
              "      flex-wrap:wrap;\n",
              "      gap: 12px;\n",
              "    }\n",
              "\n",
              "    .colab-df-convert {\n",
              "      background-color: #E8F0FE;\n",
              "      border: none;\n",
              "      border-radius: 50%;\n",
              "      cursor: pointer;\n",
              "      display: none;\n",
              "      fill: #1967D2;\n",
              "      height: 32px;\n",
              "      padding: 0 0 0 0;\n",
              "      width: 32px;\n",
              "    }\n",
              "\n",
              "    .colab-df-convert:hover {\n",
              "      background-color: #E2EBFA;\n",
              "      box-shadow: 0px 1px 2px rgba(60, 64, 67, 0.3), 0px 1px 3px 1px rgba(60, 64, 67, 0.15);\n",
              "      fill: #174EA6;\n",
              "    }\n",
              "\n",
              "    [theme=dark] .colab-df-convert {\n",
              "      background-color: #3B4455;\n",
              "      fill: #D2E3FC;\n",
              "    }\n",
              "\n",
              "    [theme=dark] .colab-df-convert:hover {\n",
              "      background-color: #434B5C;\n",
              "      box-shadow: 0px 1px 3px 1px rgba(0, 0, 0, 0.15);\n",
              "      filter: drop-shadow(0px 1px 2px rgba(0, 0, 0, 0.3));\n",
              "      fill: #FFFFFF;\n",
              "    }\n",
              "  </style>\n",
              "\n",
              "      <script>\n",
              "        const buttonEl =\n",
              "          document.querySelector('#df-cf30d338-4670-48ef-a3a3-de81b1720acf button.colab-df-convert');\n",
              "        buttonEl.style.display =\n",
              "          google.colab.kernel.accessAllowed ? 'block' : 'none';\n",
              "\n",
              "        async function convertToInteractive(key) {\n",
              "          const element = document.querySelector('#df-cf30d338-4670-48ef-a3a3-de81b1720acf');\n",
              "          const dataTable =\n",
              "            await google.colab.kernel.invokeFunction('convertToInteractive',\n",
              "                                                     [key], {});\n",
              "          if (!dataTable) return;\n",
              "\n",
              "          const docLinkHtml = 'Like what you see? Visit the ' +\n",
              "            '<a target=\"_blank\" href=https://colab.research.google.com/notebooks/data_table.ipynb>data table notebook</a>'\n",
              "            + ' to learn more about interactive tables.';\n",
              "          element.innerHTML = '';\n",
              "          dataTable['output_type'] = 'display_data';\n",
              "          await google.colab.output.renderOutput(dataTable, element);\n",
              "          const docLink = document.createElement('div');\n",
              "          docLink.innerHTML = docLinkHtml;\n",
              "          element.appendChild(docLink);\n",
              "        }\n",
              "      </script>\n",
              "    </div>\n",
              "  </div>\n",
              "  "
            ]
          },
          "metadata": {},
          "execution_count": 65
        }
      ]
    },
    {
      "cell_type": "code",
      "source": [
        "y_predict_realcase = clf.predict(x_realcase)"
      ],
      "metadata": {
        "id": "d9fPLTEqqQp9"
      },
      "id": "d9fPLTEqqQp9",
      "execution_count": null,
      "outputs": []
    },
    {
      "cell_type": "code",
      "source": [
        "y_predict_realcase"
      ],
      "metadata": {
        "colab": {
          "base_uri": "https://localhost:8080/"
        },
        "id": "SUbIwpctq0nT",
        "outputId": "a6b15a0a-b1a8-44f3-e11d-6c9bb9e64d6d"
      },
      "id": "SUbIwpctq0nT",
      "execution_count": null,
      "outputs": [
        {
          "output_type": "execute_result",
          "data": {
            "text/plain": [
              "array([0, 0, 0, 1, 0, 0, 0, 1, 0, 0, 0, 1])"
            ]
          },
          "metadata": {},
          "execution_count": 67
        }
      ]
    },
    {
      "cell_type": "code",
      "execution_count": null,
      "id": "9cb8cbc2",
      "metadata": {
        "ExecuteTime": {
          "end_time": "2023-03-28T08:46:47.264458Z",
          "start_time": "2023-03-28T08:46:47.255456Z"
        },
        "id": "9cb8cbc2"
      },
      "outputs": [],
      "source": [
        "y_test1 = [] \n",
        "y_test_data = y_test.values.tolist()\n",
        "for i in y_test_data:\n",
        "    if i == 'pass':\n",
        "        y_test1.append(1)\n",
        "    else:\n",
        "        y_test1.append(0)"
      ]
    },
    {
      "cell_type": "code",
      "execution_count": null,
      "id": "016cb394",
      "metadata": {
        "ExecuteTime": {
          "end_time": "2023-03-28T08:46:48.294819Z",
          "start_time": "2023-03-28T08:46:48.279818Z"
        },
        "id": "016cb394"
      },
      "outputs": [],
      "source": [
        "y_pred1 = [] \n",
        "y_pred_data = list(y_pred.flatten())\n",
        "for i in y_pred_data:\n",
        "    if i == 'pass':\n",
        "        y_pred1.append(1)\n",
        "    else:\n",
        "        y_pred1.append(0)"
      ]
    },
    {
      "cell_type": "code",
      "execution_count": null,
      "id": "a86010a4",
      "metadata": {
        "ExecuteTime": {
          "end_time": "2023-03-28T08:46:48.929227Z",
          "start_time": "2023-03-28T08:46:48.911227Z"
        },
        "id": "a86010a4",
        "outputId": "01608f52-a142-47cb-df47-77e37e596b94"
      },
      "outputs": [
        {
          "name": "stdout",
          "output_type": "stream",
          "text": [
            "0.8238993710691824\n"
          ]
        }
      ],
      "source": [
        "from sklearn import metrics\n",
        "auc = metrics.roc_auc_score(y_test1, y_pred1)\n",
        "\n",
        "#print AUC score\n",
        "print(auc)"
      ]
    },
    {
      "cell_type": "code",
      "execution_count": null,
      "id": "d9951bad",
      "metadata": {
        "id": "d9951bad"
      },
      "outputs": [],
      "source": []
    },
    {
      "cell_type": "code",
      "execution_count": null,
      "id": "9d810ae7",
      "metadata": {
        "id": "9d810ae7"
      },
      "outputs": [],
      "source": []
    },
    {
      "cell_type": "code",
      "execution_count": null,
      "id": "3dc8ec52",
      "metadata": {
        "id": "3dc8ec52"
      },
      "outputs": [],
      "source": [
        "from sklearn.preprocessing import MinMaxScaler\n",
        "scaler = MinMaxScaler(feature_range=(0, 1))\n",
        "scaler.fit(X_train)\n",
        "X_train = scaler.transform(X_train)\n",
        "X_test = scaler.transform(X_test)"
      ]
    }
  ],
  "metadata": {
    "hide_input": false,
    "kernelspec": {
      "display_name": "Python 3",
      "language": "python",
      "name": "python3"
    },
    "language_info": {
      "codemirror_mode": {
        "name": "ipython",
        "version": 3
      },
      "file_extension": ".py",
      "mimetype": "text/x-python",
      "name": "python",
      "nbconvert_exporter": "python",
      "pygments_lexer": "ipython3",
      "version": "3.8.5"
    },
    "varInspector": {
      "cols": {
        "lenName": 16,
        "lenType": 16,
        "lenVar": 40
      },
      "kernels_config": {
        "python": {
          "delete_cmd_postfix": "",
          "delete_cmd_prefix": "del ",
          "library": "var_list.py",
          "varRefreshCmd": "print(var_dic_list())"
        },
        "r": {
          "delete_cmd_postfix": ") ",
          "delete_cmd_prefix": "rm(",
          "library": "var_list.r",
          "varRefreshCmd": "cat(var_dic_list()) "
        }
      },
      "types_to_exclude": [
        "module",
        "function",
        "builtin_function_or_method",
        "instance",
        "_Feature"
      ],
      "window_display": false
    },
    "colab": {
      "provenance": [],
      "include_colab_link": true
    },
    "widgets": {
      "application/vnd.jupyter.widget-state+json": {
        "263e038fa21c4b3e9f92ef3229684a44": {
          "model_module": "@jupyter-widgets/controls",
          "model_name": "DropdownModel",
          "model_module_version": "1.5.0",
          "state": {
            "_dom_classes": [],
            "_model_module": "@jupyter-widgets/controls",
            "_model_module_version": "1.5.0",
            "_model_name": "DropdownModel",
            "_options_labels": [
              "Type 3_re_after_0216.csv",
              "Type 3_re_all_0216.csv",
              "Type 3_re_test_3000_0319.csv",
              "type3_re_long_table_mod.csv"
            ],
            "_view_count": null,
            "_view_module": "@jupyter-widgets/controls",
            "_view_module_version": "1.5.0",
            "_view_name": "DropdownView",
            "description": "",
            "description_tooltip": null,
            "disabled": false,
            "index": 3,
            "layout": "IPY_MODEL_3b3af16c8fac4595a28ac56747baed3e",
            "style": "IPY_MODEL_08ad38749d8b4e6cb2443c8259ea0b31"
          }
        },
        "3b3af16c8fac4595a28ac56747baed3e": {
          "model_module": "@jupyter-widgets/base",
          "model_name": "LayoutModel",
          "model_module_version": "1.2.0",
          "state": {
            "_model_module": "@jupyter-widgets/base",
            "_model_module_version": "1.2.0",
            "_model_name": "LayoutModel",
            "_view_count": null,
            "_view_module": "@jupyter-widgets/base",
            "_view_module_version": "1.2.0",
            "_view_name": "LayoutView",
            "align_content": null,
            "align_items": null,
            "align_self": null,
            "border": null,
            "bottom": null,
            "display": null,
            "flex": null,
            "flex_flow": null,
            "grid_area": null,
            "grid_auto_columns": null,
            "grid_auto_flow": null,
            "grid_auto_rows": null,
            "grid_column": null,
            "grid_gap": null,
            "grid_row": null,
            "grid_template_areas": null,
            "grid_template_columns": null,
            "grid_template_rows": null,
            "height": null,
            "justify_content": null,
            "justify_items": null,
            "left": null,
            "margin": null,
            "max_height": null,
            "max_width": null,
            "min_height": null,
            "min_width": null,
            "object_fit": null,
            "object_position": null,
            "order": null,
            "overflow": null,
            "overflow_x": null,
            "overflow_y": null,
            "padding": null,
            "right": null,
            "top": null,
            "visibility": null,
            "width": null
          }
        },
        "08ad38749d8b4e6cb2443c8259ea0b31": {
          "model_module": "@jupyter-widgets/controls",
          "model_name": "DescriptionStyleModel",
          "model_module_version": "1.5.0",
          "state": {
            "_model_module": "@jupyter-widgets/controls",
            "_model_module_version": "1.5.0",
            "_model_name": "DescriptionStyleModel",
            "_view_count": null,
            "_view_module": "@jupyter-widgets/base",
            "_view_module_version": "1.2.0",
            "_view_name": "StyleView",
            "description_width": ""
          }
        },
        "0ac1f491c8c74a53abf8546a84ea697e": {
          "model_module": "@jupyter-widgets/controls",
          "model_name": "DropdownModel",
          "model_module_version": "1.5.0",
          "state": {
            "_dom_classes": [],
            "_model_module": "@jupyter-widgets/controls",
            "_model_module_version": "1.5.0",
            "_model_name": "DropdownModel",
            "_options_labels": [
              "weight(g)",
              "L4",
              "L5",
              "L7",
              "L8",
              "L9",
              "L10",
              "L11",
              "L12",
              "L13",
              "L14",
              "zone",
              "life",
              "ln_life"
            ],
            "_view_count": null,
            "_view_module": "@jupyter-widgets/controls",
            "_view_module_version": "1.5.0",
            "_view_name": "DropdownView",
            "description": "",
            "description_tooltip": null,
            "disabled": false,
            "index": 11,
            "layout": "IPY_MODEL_d22da32d0584488e85d2bc59b01c4026",
            "style": "IPY_MODEL_82f799639e874fff9860b45ee6696b0b"
          }
        },
        "d22da32d0584488e85d2bc59b01c4026": {
          "model_module": "@jupyter-widgets/base",
          "model_name": "LayoutModel",
          "model_module_version": "1.2.0",
          "state": {
            "_model_module": "@jupyter-widgets/base",
            "_model_module_version": "1.2.0",
            "_model_name": "LayoutModel",
            "_view_count": null,
            "_view_module": "@jupyter-widgets/base",
            "_view_module_version": "1.2.0",
            "_view_name": "LayoutView",
            "align_content": null,
            "align_items": null,
            "align_self": null,
            "border": null,
            "bottom": null,
            "display": null,
            "flex": null,
            "flex_flow": null,
            "grid_area": null,
            "grid_auto_columns": null,
            "grid_auto_flow": null,
            "grid_auto_rows": null,
            "grid_column": null,
            "grid_gap": null,
            "grid_row": null,
            "grid_template_areas": null,
            "grid_template_columns": null,
            "grid_template_rows": null,
            "height": null,
            "justify_content": null,
            "justify_items": null,
            "left": null,
            "margin": null,
            "max_height": null,
            "max_width": null,
            "min_height": null,
            "min_width": null,
            "object_fit": null,
            "object_position": null,
            "order": null,
            "overflow": null,
            "overflow_x": null,
            "overflow_y": null,
            "padding": null,
            "right": null,
            "top": null,
            "visibility": null,
            "width": null
          }
        },
        "82f799639e874fff9860b45ee6696b0b": {
          "model_module": "@jupyter-widgets/controls",
          "model_name": "DescriptionStyleModel",
          "model_module_version": "1.5.0",
          "state": {
            "_model_module": "@jupyter-widgets/controls",
            "_model_module_version": "1.5.0",
            "_model_name": "DescriptionStyleModel",
            "_view_count": null,
            "_view_module": "@jupyter-widgets/base",
            "_view_module_version": "1.2.0",
            "_view_name": "StyleView",
            "description_width": ""
          }
        }
      }
    }
  },
  "nbformat": 4,
  "nbformat_minor": 5
}